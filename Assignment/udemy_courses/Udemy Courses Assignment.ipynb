{
 "cells": [
  {
   "cell_type": "code",
   "execution_count": 2,
   "metadata": {},
   "outputs": [],
   "source": [
    "from pyspark.sql import SparkSession"
   ]
  },
  {
   "cell_type": "code",
   "execution_count": 3,
   "metadata": {},
   "outputs": [
    {
     "name": "stdout",
     "output_type": "stream",
     "text": [
      "22/10/20 10:27:24 WARN Utils: Your hostname, 1011000011101110 resolves to a loopback address: 127.0.1.1; using 192.168.1.72 instead (on interface wlp3s0)\n",
      "22/10/20 10:27:24 WARN Utils: Set SPARK_LOCAL_IP if you need to bind to another address\n"
     ]
    },
    {
     "name": "stderr",
     "output_type": "stream",
     "text": [
      "Setting default log level to \"WARN\".\n",
      "To adjust logging level use sc.setLogLevel(newLevel). For SparkR, use setLogLevel(newLevel).\n"
     ]
    },
    {
     "name": "stdout",
     "output_type": "stream",
     "text": [
      "22/10/20 10:27:25 WARN NativeCodeLoader: Unable to load native-hadoop library for your platform... using builtin-java classes where applicable\n"
     ]
    }
   ],
   "source": [
    "spark = SparkSession.builder \\\n",
    "    .master(\"local[4]\") \\\n",
    "    .appName(\"Udemy Courses\") \\\n",
    "    .getOrCreate()"
   ]
  },
  {
   "cell_type": "code",
   "execution_count": 4,
   "metadata": {},
   "outputs": [
    {
     "name": "stderr",
     "output_type": "stream",
     "text": [
      "                                                                                \r"
     ]
    }
   ],
   "source": [
    "df = spark.read.json(\"udemy_courses.json\")"
   ]
  },
  {
   "cell_type": "code",
   "execution_count": 5,
   "metadata": {},
   "outputs": [
    {
     "name": "stdout",
     "output_type": "stream",
     "text": [
      "root\n",
      " |-- _corrupt_record: string (nullable = true)\n",
      " |-- content_duration: string (nullable = true)\n",
      " |-- course_id: string (nullable = true)\n",
      " |-- course_title: string (nullable = true)\n",
      " |-- is_paid: string (nullable = true)\n",
      " |-- level: string (nullable = true)\n",
      " |-- num_lectures: string (nullable = true)\n",
      " |-- num_reviews: string (nullable = true)\n",
      " |-- num_subscribers: string (nullable = true)\n",
      " |-- price: string (nullable = true)\n",
      " |-- published_timestamp: string (nullable = true)\n",
      " |-- subject: string (nullable = true)\n",
      " |-- url: string (nullable = true)\n",
      "\n"
     ]
    }
   ],
   "source": [
    "df.printSchema()"
   ]
  },
  {
   "cell_type": "code",
   "execution_count": 7,
   "metadata": {},
   "outputs": [
    {
     "name": "stdout",
     "output_type": "stream",
     "text": [
      "+---------------+------------------+---------+--------------------+-------+------------------+------------+-----------+---------------+-----+--------------------+----------------+--------------------+\n",
      "|_corrupt_record|  content_duration|course_id|        course_title|is_paid|             level|num_lectures|num_reviews|num_subscribers|price| published_timestamp|         subject|                 url|\n",
      "+---------------+------------------+---------+--------------------+-------+------------------+------------+-----------+---------------+-----+--------------------+----------------+--------------------+\n",
      "|           null|               1.5|  1070968|Ultimate Investme...|   True|        All Levels|          51|         23|           2147|  200|2017-01-18T20:58:58Z|Business Finance|https://www.udemy...|\n",
      "|           null|              39.0|  1113822|Complete GST Cour...|   True|        All Levels|         274|        923|           2792|   75|2017-03-09T16:34:20Z|Business Finance|https://www.udemy...|\n",
      "|           null|               2.5|  1006314|Financial Modelin...|   True|Intermediate Level|          51|         74|           2174|   45|2016-12-19T19:26:30Z|Business Finance|https://www.udemy...|\n",
      "|           null|               3.0|  1210588|Beginner to Pro -...|   True|        All Levels|          36|         11|           2451|   95|2017-05-30T20:07:24Z|Business Finance|https://www.udemy...|\n",
      "|           null|               2.0|  1011058|How To Maximize Y...|   True|Intermediate Level|          26|         45|           1276|  200|2016-12-13T14:57:18Z|Business Finance|https://www.udemy...|\n",
      "|           null|               3.0|   192870|Trading Penny Sto...|   True|        All Levels|          25|        138|           9221|  150|2014-05-02T15:13:30Z|Business Finance|https://www.udemy...|\n",
      "|           null|               1.0|   739964|Investing And Tra...|   True|    Beginner Level|          26|        178|           1540|   65|2016-02-21T18:23:12Z|Business Finance|https://www.udemy...|\n",
      "|           null|               2.5|   403100|Trading Stock Cha...|   True|        All Levels|          23|        148|           2917|   95|2015-01-30T22:13:03Z|Business Finance|https://www.udemy...|\n",
      "|           null|               2.5|   476268|Options Trading 3...|   True|      Expert Level|          38|         34|           5172|  195|2015-05-28T00:14:03Z|Business Finance|https://www.udemy...|\n",
      "|           null|               1.0|  1167710|The Only Investme...|   True|        All Levels|          15|         14|            827|  200|2017-04-18T18:13:32Z|Business Finance|https://www.udemy...|\n",
      "|           null|               5.0|   592338|Forex Trading Sec...|   True|        All Levels|          76|         93|           4284|  200|2015-09-11T16:47:02Z|Business Finance|https://www.udemy...|\n",
      "|           null|               1.0|   975046|Trading Options W...|   True|        All Levels|          17|         42|           1380|  200|2016-10-18T22:52:31Z|Business Finance|https://www.udemy...|\n",
      "|           null|               1.5|   742602|Financial Managem...|   True|        All Levels|          19|         21|           3607|   30|2016-02-03T18:04:01Z|Business Finance|https://www.udemy...|\n",
      "|           null|               2.0|   794151|Forex Trading Cou...|   True|        All Levels|          16|         52|           4061|  195|2016-03-16T15:40:19Z|Business Finance|https://www.udemy...|\n",
      "|           null|               7.0|  1196544|Python Algo Tradi...|   True|        All Levels|          42|         19|            294|  200|2017-04-28T16:41:44Z|Business Finance|https://www.udemy...|\n",
      "|           null|               1.5|   504036|Short Selling: Le...|   True|Intermediate Level|          19|        106|           2276|   75|2015-06-22T21:18:35Z|Business Finance|https://www.udemy...|\n",
      "|           null|               1.5|   719698|Basic Technical A...|   True|    Beginner Level|          16|         79|           4919|   20|2016-01-08T17:21:26Z|Business Finance|https://www.udemy...|\n",
      "|           null|               4.0|   564966|The Complete Char...|   True|        All Levels|          52|        115|           2666|  200|2015-08-10T21:07:35Z|Business Finance|https://www.udemy...|\n",
      "|           null|               1.5|   606928|7 Deadly Mistakes...|   True|        All Levels|          23|         24|           5354|   50|2015-09-21T18:10:34Z|Business Finance|https://www.udemy...|\n",
      "|           null|0.5833333333333334|    58977|Financial Stateme...|   True|    Beginner Level|          12|        249|           8095|   95|2013-06-09T00:21:26Z|Business Finance|https://www.udemy...|\n",
      "+---------------+------------------+---------+--------------------+-------+------------------+------------+-----------+---------------+-----+--------------------+----------------+--------------------+\n",
      "only showing top 20 rows\n",
      "\n"
     ]
    }
   ],
   "source": [
    "df.show(truncate = True)"
   ]
  },
  {
   "cell_type": "code",
   "execution_count": 10,
   "metadata": {},
   "outputs": [],
   "source": [
    "df.toPandas().to_csv('OutputDatas/udemy_courses.csv',index= False)"
   ]
  },
  {
   "cell_type": "markdown",
   "metadata": {},
   "source": [
    "# 1. What are the best free courses by subject?"
   ]
  },
  {
   "cell_type": "code",
   "execution_count": 79,
   "metadata": {},
   "outputs": [],
   "source": [
    "free_courses= df.filter(df.is_paid == \"False\")"
   ]
  },
  {
   "cell_type": "code",
   "execution_count": 73,
   "metadata": {},
   "outputs": [],
   "source": [
    "from pyspark.sql.functions import col\n",
    "from pyspark.sql.types import IntegerType"
   ]
  },
  {
   "cell_type": "code",
   "execution_count": 80,
   "metadata": {},
   "outputs": [
    {
     "name": "stdout",
     "output_type": "stream",
     "text": [
      "root\n",
      " |-- _corrupt_record: string (nullable = true)\n",
      " |-- content_duration: string (nullable = true)\n",
      " |-- course_id: string (nullable = true)\n",
      " |-- course_title: string (nullable = true)\n",
      " |-- is_paid: string (nullable = true)\n",
      " |-- level: string (nullable = true)\n",
      " |-- num_lectures: string (nullable = true)\n",
      " |-- num_reviews: string (nullable = true)\n",
      " |-- num_subscribers: string (nullable = true)\n",
      " |-- price: string (nullable = true)\n",
      " |-- published_timestamp: string (nullable = true)\n",
      " |-- subject: string (nullable = true)\n",
      " |-- url: string (nullable = true)\n",
      "\n"
     ]
    }
   ],
   "source": [
    "free_courses.printSchema()"
   ]
  },
  {
   "cell_type": "code",
   "execution_count": 87,
   "metadata": {},
   "outputs": [],
   "source": [
    "free_courses=free_courses.withColumn(\"num_reviews\",col(\"num_reviews\").cast(\"integer\"))\n",
    "free_courses= free_courses.withColumn(\"num_subscribers\",col(\"num_subscribers\").cast(\"integer\"))"
   ]
  },
  {
   "cell_type": "code",
   "execution_count": 88,
   "metadata": {},
   "outputs": [
    {
     "name": "stdout",
     "output_type": "stream",
     "text": [
      "root\n",
      " |-- _corrupt_record: string (nullable = true)\n",
      " |-- content_duration: string (nullable = true)\n",
      " |-- course_id: string (nullable = true)\n",
      " |-- course_title: string (nullable = true)\n",
      " |-- is_paid: string (nullable = true)\n",
      " |-- level: string (nullable = true)\n",
      " |-- num_lectures: string (nullable = true)\n",
      " |-- num_reviews: integer (nullable = true)\n",
      " |-- num_subscribers: integer (nullable = true)\n",
      " |-- price: string (nullable = true)\n",
      " |-- published_timestamp: string (nullable = true)\n",
      " |-- subject: string (nullable = true)\n",
      " |-- url: string (nullable = true)\n",
      "\n"
     ]
    }
   ],
   "source": [
    "free_courses.printSchema()"
   ]
  },
  {
   "cell_type": "code",
   "execution_count": null,
   "metadata": {},
   "outputs": [],
   "source": []
  },
  {
   "cell_type": "code",
   "execution_count": null,
   "metadata": {},
   "outputs": [],
   "source": []
  },
  {
   "cell_type": "code",
   "execution_count": 110,
   "metadata": {},
   "outputs": [
    {
     "name": "stdout",
     "output_type": "stream",
     "text": [
      "+---------------+------------------+---------+--------------------+-------+------------------+------------+-----------+---------------+-----+--------------------+----------------+--------------------+\n",
      "|_corrupt_record|  content_duration|course_id|        course_title|is_paid|             level|num_lectures|num_reviews|num_subscribers|price| published_timestamp|         subject|                 url|\n",
      "+---------------+------------------+---------+--------------------+-------+------------------+------------+-----------+---------------+-----+--------------------+----------------+--------------------+\n",
      "|           null|              0.55|  1148774|Options Trading 1...|  False|    Beginner Level|          11|         66|           1514|    0|2017-03-23T22:19:57Z|Business Finance|https://www.udemy...|\n",
      "|           null|               1.5|   133536|Stock Market Inve...|  False|    Beginner Level|          15|       2698|          50855|    0|2013-12-25T19:53:34Z|Business Finance|https://www.udemy...|\n",
      "|           null|               1.0|   265960|Fundamentals of F...|  False|        All Levels|          23|        620|          17160|    0|2014-08-29T20:10:38Z|Business Finance|https://www.udemy...|\n",
      "|           null|               2.0|   923616|Website Investing...|  False|        All Levels|          51|        151|           6811|    0|2016-08-05T17:03:15Z|Business Finance|https://www.udemy...|\n",
      "|           null|               2.0|   191854|Stock Market Foun...|  False|    Beginner Level|           9|        794|          19339|    0|2014-03-31T21:35:06Z|Business Finance|https://www.udemy...|\n",
      "|           null|               1.5|   151668|Introduction to F...|  False|Intermediate Level|           8|       1463|          29167|    0|2014-05-27T16:22:16Z|Business Finance|https://www.udemy...|\n",
      "|           null|               1.5|   777444|Corporate Finance...|  False|    Beginner Level|          17|        649|          11724|    0|2016-03-04T05:58:09Z|Business Finance|https://www.udemy...|\n",
      "|           null|               1.5|    48841|Accounting in 60 ...|  False|    Beginner Level|          16|       4397|          56659|    0|2013-04-07T21:39:25Z|Business Finance|https://www.udemy...|\n",
      "|           null|               2.0|  1188742|Introduction to C...|  False|    Beginner Level|          11|        138|           3775|    0|2017-05-01T21:18:54Z|Business Finance|https://www.udemy...|\n",
      "|           null|               1.5|   919906|Trading Options F...|  False|    Beginner Level|          20|        281|           4077|    0|2016-08-18T21:57:04Z|Business Finance|https://www.udemy...|\n",
      "|           null|               2.0|   249950|Binary Options Co...|  False|Intermediate Level|           9|        207|           5874|    0|2014-06-26T02:00:55Z|Business Finance|https://www.udemy...|\n",
      "|           null|               2.0|   692176|Apply finance con...|  False|    Beginner Level|          24|        161|           3465|    0|2016-02-23T21:05:46Z|Business Finance|https://www.udemy...|\n",
      "|           null|               1.5|  1266148|Preparation of Co...|  False|Intermediate Level|          18|          0|            965|    0|2017-06-28T20:37:13Z|Business Finance|https://www.udemy...|\n",
      "|           null|               1.0|  1218552|Forex for Beginne...|  False|    Beginner Level|           9|         32|           1780|    0|2017-05-18T16:48:46Z|Business Finance|https://www.udemy...|\n",
      "|           null|0.5333333333333333|   851106|Investment Crowdf...|  False|    Beginner Level|          11|        181|           4607|    0|2016-05-17T00:43:59Z|Business Finance|https://www.udemy...|\n",
      "|           null|               4.5|   190816|    IAS 18 - Revenue|  False|        All Levels|          23|         32|           2571|    0|2014-03-29T14:10:31Z|Business Finance|https://www.udemy...|\n",
      "|           null|               2.0|   421546|สอนเทรดไบนารี่ อ๊...|  False|        All Levels|          25|        258|           2079|    0|2015-02-15T12:17:56Z|Business Finance|https://www.udemy...|\n",
      "|           null|               3.0|   471428|Crash Course on C...|  False|        All Levels|          19|         41|           5007|    0|2015-04-13T17:52:57Z|Business Finance|https://www.udemy...|\n",
      "|           null|0.5166666666666666|   283780|Build a DCF Model...|  False|        All Levels|           5|        395|           4653|    0|2014-09-14T21:13:26Z|Business Finance|https://www.udemy...|\n",
      "|           null|               1.5|    52118|Multiply your ret...|  False|        All Levels|          14|         12|           3035|    0|2016-06-20T21:02:36Z|Business Finance|https://www.udemy...|\n",
      "+---------------+------------------+---------+--------------------+-------+------------------+------------+-----------+---------------+-----+--------------------+----------------+--------------------+\n",
      "only showing top 20 rows\n",
      "\n"
     ]
    }
   ],
   "source": [
    "free_courses.show(20)"
   ]
  },
  {
   "cell_type": "code",
   "execution_count": 90,
   "metadata": {},
   "outputs": [],
   "source": [
    "best_free_courses = free_courses.orderBy(free_courses.subject,free_courses.num_subscribers.desc(),free_courses.num_reviews.desc())"
   ]
  },
  {
   "cell_type": "code",
   "execution_count": 109,
   "metadata": {},
   "outputs": [
    {
     "name": "stdout",
     "output_type": "stream",
     "text": [
      "+---------------+----------------+---------+--------------------+-------+------------------+------------+-----------+---------------+-----+--------------------+----------------+--------------------+\n",
      "|_corrupt_record|content_duration|course_id|        course_title|is_paid|             level|num_lectures|num_reviews|num_subscribers|price| published_timestamp|         subject|                 url|\n",
      "+---------------+----------------+---------+--------------------+-------+------------------+------------+-----------+---------------+-----+--------------------+----------------+--------------------+\n",
      "|           null|             8.0|    49798|Bitcoin or How I ...|  False|        All Levels|          24|        936|          65576|    0|2013-04-20T02:25:22Z|Business Finance|https://www.udemy...|\n",
      "|           null|             1.5|    48841|Accounting in 60 ...|  False|    Beginner Level|          16|       4397|          56659|    0|2013-04-07T21:39:25Z|Business Finance|https://www.udemy...|\n",
      "|           null|             1.5|   133536|Stock Market Inve...|  False|    Beginner Level|          15|       2698|          50855|    0|2013-12-25T19:53:34Z|Business Finance|https://www.udemy...|\n",
      "|           null|             1.5|   151668|Introduction to F...|  False|Intermediate Level|           8|       1463|          29167|    0|2014-05-27T16:22:16Z|Business Finance|https://www.udemy...|\n",
      "|           null|             3.5|    97338|        Forex Basics|  False|    Beginner Level|          26|        712|          22344|    0|2013-10-16T17:40:23Z|Business Finance|https://www.udemy...|\n",
      "|           null|             1.5|   189160|Financial Analysi...|  False|        All Levels|          14|        635|          19614|    0|2014-04-23T15:10:52Z|Business Finance|https://www.udemy...|\n",
      "|           null|             2.0|   191854|Stock Market Foun...|  False|    Beginner Level|           9|        794|          19339|    0|2014-03-31T21:35:06Z|Business Finance|https://www.udemy...|\n",
      "|           null|             1.0|   754028|Financial Account...|  False|    Beginner Level|          17|       1440|          17847|    0|2016-02-24T14:53:28Z|Business Finance|https://www.udemy...|\n",
      "|           null|             1.0|   265960|Fundamentals of F...|  False|        All Levels|          23|        620|          17160|    0|2014-08-29T20:10:38Z|Business Finance|https://www.udemy...|\n",
      "|           null|             1.0|   189996|Introduction to D...|  False|    Beginner Level|          17|        351|          12217|    0|2014-04-29T05:49:43Z|Business Finance|https://www.udemy...|\n",
      "|           null|             1.5|   777444|Corporate Finance...|  False|    Beginner Level|          17|        649|          11724|    0|2016-03-04T05:58:09Z|Business Finance|https://www.udemy...|\n",
      "|           null|             1.0|   774174|Bitcoin For Begin...|  False|        All Levels|          15|        444|          10670|    0|2016-03-03T21:03:33Z|Business Finance|https://www.udemy...|\n",
      "|           null|             1.5|   205810|Beginners Binary ...|  False|    Beginner Level|          14|        799|          10540|    0|2014-04-27T06:58:27Z|Business Finance|https://www.udemy...|\n",
      "|           null|             2.0|   114518|Improve Your Fina...|  False|        All Levels|          10|         96|           9995|    0|2014-02-10T03:50:00Z|Business Finance|https://www.udemy...|\n",
      "|           null|             2.0|   706942|Forex Trading For...|  False|    Beginner Level|          22|        183|           9483|    0|2016-01-14T02:46:59Z|Business Finance|https://www.udemy...|\n",
      "|           null|             1.0|   418732|Hedge Fund Tradin...|  False|        All Levels|          12|        584|           8985|    0|2015-03-06T01:11:18Z|Business Finance|https://www.udemy...|\n",
      "|           null|             5.0|   614472|The Advanced Fore...|  False|        All Levels|          25|        144|           8236|    0|2015-10-09T16:46:49Z|Business Finance|https://www.udemy...|\n",
      "|           null|             2.0|   923616|Website Investing...|  False|        All Levels|          51|        151|           6811|    0|2016-08-05T17:03:15Z|Business Finance|https://www.udemy...|\n",
      "|           null|             2.0|    47504|Use Crowdfunding ...|  False|        All Levels|           9|         32|           6533|    0|2013-06-25T15:22:28Z|Business Finance|https://www.udemy...|\n",
      "|           null|             3.0|   716828|The Beginner's Gu...|  False|        All Levels|          20|        138|           6185|    0|2016-01-18T19:47:54Z|Business Finance|https://www.udemy...|\n",
      "+---------------+----------------+---------+--------------------+-------+------------------+------------+-----------+---------------+-----+--------------------+----------------+--------------------+\n",
      "only showing top 20 rows\n",
      "\n"
     ]
    }
   ],
   "source": [
    "best_free_courses.show(truncate = True)"
   ]
  },
  {
   "cell_type": "code",
   "execution_count": 117,
   "metadata": {},
   "outputs": [],
   "source": [
    "best_free_courses_by_subject=best_free_courses.select(best_free_courses.course_title,best_free_courses.subject,best_free_courses.num_subscribers)"
   ]
  },
  {
   "cell_type": "code",
   "execution_count": 118,
   "metadata": {},
   "outputs": [
    {
     "name": "stdout",
     "output_type": "stream",
     "text": [
      "+-----------------------------------------------------------+----------------+---------------+\n",
      "|course_title                                               |subject         |num_subscribers|\n",
      "+-----------------------------------------------------------+----------------+---------------+\n",
      "|Bitcoin or How I Learned to Stop Worrying and Love Crypto  |Business Finance|65576          |\n",
      "|Accounting in 60 Minutes - A Brief Introduction            |Business Finance|56659          |\n",
      "|Stock Market Investing for Beginners                       |Business Finance|50855          |\n",
      "|Introduction to Financial Modeling                         |Business Finance|29167          |\n",
      "|Forex Basics                                               |Business Finance|22344          |\n",
      "|Financial Analysis:  A Recipe for Success                  |Business Finance|19614          |\n",
      "|Stock Market Foundations                                   |Business Finance|19339          |\n",
      "|Financial Accounting - A Brief Introduction                |Business Finance|17847          |\n",
      "|Fundamentals of Forex Trading                              |Business Finance|17160          |\n",
      "|Introduction to Digital Payments                           |Business Finance|12217          |\n",
      "|Corporate Finance - A Brief Introduction                   |Business Finance|11724          |\n",
      "|Bitcoin For Beginners: Your Quick Start Guide To Bitcoin   |Business Finance|10670          |\n",
      "|Beginners Binary Options Course                            |Business Finance|10540          |\n",
      "|Improve Your Financial Literacy                            |Business Finance|9995           |\n",
      "|Forex Trading For Beginners                                |Business Finance|9483           |\n",
      "|Hedge Fund Trading System                                  |Business Finance|8985           |\n",
      "|The Advanced Forex Course for Smart Traders                |Business Finance|8236           |\n",
      "|Website Investing 101 - Buying & Selling Online Businesses |Business Finance|6811           |\n",
      "|Use Crowdfunding Effectively With Indiegogo and Kickstarter|Business Finance|6533           |\n",
      "|The Beginner's Guide to the Futures and Options Trading    |Business Finance|6185           |\n",
      "+-----------------------------------------------------------+----------------+---------------+\n",
      "only showing top 20 rows\n",
      "\n"
     ]
    }
   ],
   "source": [
    "best_free_courses_by_subject.show(truncate=False)\n",
    "                                "
   ]
  },
  {
   "cell_type": "code",
   "execution_count": 119,
   "metadata": {},
   "outputs": [],
   "source": [
    "best_free_courses_by_subject.toPandas().to_csv('OutputDatas/1.Best_free_courses_by_subject.csv',index= False)"
   ]
  },
  {
   "cell_type": "code",
   "execution_count": null,
   "metadata": {},
   "outputs": [],
   "source": []
  },
  {
   "cell_type": "markdown",
   "metadata": {},
   "source": [
    "# 2.What are the most popular courses?"
   ]
  },
  {
   "cell_type": "code",
   "execution_count": 97,
   "metadata": {},
   "outputs": [],
   "source": [
    "most_popular = df"
   ]
  },
  {
   "cell_type": "code",
   "execution_count": 98,
   "metadata": {},
   "outputs": [
    {
     "name": "stdout",
     "output_type": "stream",
     "text": [
      "root\n",
      " |-- _corrupt_record: string (nullable = true)\n",
      " |-- content_duration: string (nullable = true)\n",
      " |-- course_id: string (nullable = true)\n",
      " |-- course_title: string (nullable = true)\n",
      " |-- is_paid: string (nullable = true)\n",
      " |-- level: string (nullable = true)\n",
      " |-- num_lectures: string (nullable = true)\n",
      " |-- num_reviews: string (nullable = true)\n",
      " |-- num_subscribers: string (nullable = true)\n",
      " |-- price: string (nullable = true)\n",
      " |-- published_timestamp: string (nullable = true)\n",
      " |-- subject: string (nullable = true)\n",
      " |-- url: string (nullable = true)\n",
      "\n"
     ]
    }
   ],
   "source": [
    "most_popular.printSchema()"
   ]
  },
  {
   "cell_type": "code",
   "execution_count": 99,
   "metadata": {},
   "outputs": [],
   "source": [
    "most_popular=most_popular.withColumn(\"num_reviews\",col(\"num_reviews\").cast(\"integer\"))\n",
    "most_popular= most_popular.withColumn(\"num_subscribers\",col(\"num_subscribers\").cast(\"integer\"))"
   ]
  },
  {
   "cell_type": "code",
   "execution_count": 100,
   "metadata": {},
   "outputs": [
    {
     "name": "stdout",
     "output_type": "stream",
     "text": [
      "root\n",
      " |-- _corrupt_record: string (nullable = true)\n",
      " |-- content_duration: string (nullable = true)\n",
      " |-- course_id: string (nullable = true)\n",
      " |-- course_title: string (nullable = true)\n",
      " |-- is_paid: string (nullable = true)\n",
      " |-- level: string (nullable = true)\n",
      " |-- num_lectures: string (nullable = true)\n",
      " |-- num_reviews: integer (nullable = true)\n",
      " |-- num_subscribers: integer (nullable = true)\n",
      " |-- price: string (nullable = true)\n",
      " |-- published_timestamp: string (nullable = true)\n",
      " |-- subject: string (nullable = true)\n",
      " |-- url: string (nullable = true)\n",
      "\n"
     ]
    }
   ],
   "source": [
    "most_popular.printSchema()"
   ]
  },
  {
   "cell_type": "code",
   "execution_count": 120,
   "metadata": {},
   "outputs": [],
   "source": [
    "most_popular = most_popular.orderBy(most_popular.num_subscribers.desc())"
   ]
  },
  {
   "cell_type": "code",
   "execution_count": 123,
   "metadata": {},
   "outputs": [
    {
     "name": "stdout",
     "output_type": "stream",
     "text": [
      "+---------------+----------------+---------+--------------------+-------+--------------+------------+-----------+---------------+-----+--------------------+-------------------+--------------------+\n",
      "|_corrupt_record|content_duration|course_id|        course_title|is_paid|         level|num_lectures|num_reviews|num_subscribers|price| published_timestamp|            subject|                 url|\n",
      "+---------------+----------------+---------+--------------------+-------+--------------+------------+-----------+---------------+-----+--------------------+-------------------+--------------------+\n",
      "|           null|            10.5|    41295|Learn HTML5 Progr...|  False|    All Levels|          45|       8629|         268923|    0|2013-02-14T07:03:41Z|    Web Development|https://www.udemy...|\n",
      "|           null|             3.5|    59014|Coding for Entrep...|  False|Beginner Level|          27|        279|         161029|    0|2013-06-09T15:51:55Z|    Web Development|https://www.udemy...|\n",
      "|           null|            43.0|   625204|The Web Developer...|   True|    All Levels|         342|      27445|         121584|  200|2015-11-02T21:13:27Z|    Web Development|https://www.udemy...|\n",
      "|           null|             3.0|   173548|Build Your First ...|  False|Beginner Level|          30|       5924|         120291|    0|2014-04-08T16:21:30Z|    Web Development|https://www.udemy...|\n",
      "|           null|            30.5|   764164|The Complete Web ...|   True|    All Levels|         304|      22412|         114512|  200|2016-03-08T22:28:36Z|    Web Development|https://www.udemy...|\n",
      "|           null|             4.5|    19421|Free Beginner Ele...|  False|Beginner Level|          95|       1042|         101154|    0|2012-06-15T17:00:33Z|Musical Instruments|https://www.udemy...|\n",
      "|           null|             3.0|   473160|Web Design for We...|  False|    All Levels|          20|       6512|          98867|    0|2015-04-13T18:29:47Z|    Web Development|https://www.udemy...|\n",
      "|           null|             2.0|    94430|Learn Javascript ...|   True|    All Levels|          10|       2685|          84897|   30|2013-10-10T15:19:29Z|    Web Development|https://www.udemy...|\n",
      "|           null|             6.5|   130064|Practical PHP: Ma...|  False|    All Levels|          45|       4598|          83737|    0|2014-07-19T03:02:05Z|    Web Development|https://www.udemy...|\n",
      "|           null|            11.5|   364426|JavaScript: Under...|   True|    All Levels|          85|      16976|          79612|  175|2015-03-12T23:19:54Z|    Web Development|https://www.udemy...|\n",
      "+---------------+----------------+---------+--------------------+-------+--------------+------------+-----------+---------------+-----+--------------------+-------------------+--------------------+\n",
      "only showing top 10 rows\n",
      "\n"
     ]
    }
   ],
   "source": [
    "most_popular.show(10)"
   ]
  },
  {
   "cell_type": "code",
   "execution_count": 125,
   "metadata": {},
   "outputs": [],
   "source": [
    "most_popular_courses = most_popular.select(most_popular.course_title,most_popular.num_subscribers)"
   ]
  },
  {
   "cell_type": "code",
   "execution_count": 126,
   "metadata": {},
   "outputs": [
    {
     "name": "stdout",
     "output_type": "stream",
     "text": [
      "+--------------------+---------------+\n",
      "|        course_title|num_subscribers|\n",
      "+--------------------+---------------+\n",
      "|Learn HTML5 Progr...|         268923|\n",
      "|Coding for Entrep...|         161029|\n",
      "|The Web Developer...|         121584|\n",
      "|Build Your First ...|         120291|\n",
      "|The Complete Web ...|         114512|\n",
      "|Free Beginner Ele...|         101154|\n",
      "|Web Design for We...|          98867|\n",
      "|Learn Javascript ...|          84897|\n",
      "|Practical PHP: Ma...|          83737|\n",
      "|JavaScript: Under...|          79612|\n",
      "+--------------------+---------------+\n",
      "only showing top 10 rows\n",
      "\n"
     ]
    }
   ],
   "source": [
    "most_popular_courses.show(10)"
   ]
  },
  {
   "cell_type": "code",
   "execution_count": null,
   "metadata": {},
   "outputs": [],
   "source": []
  },
  {
   "cell_type": "code",
   "execution_count": 127,
   "metadata": {},
   "outputs": [],
   "source": [
    "most_popular_courses.toPandas().to_csv('OutputDatas/2.Most_popular_courses.csv',index= False)"
   ]
  },
  {
   "cell_type": "code",
   "execution_count": null,
   "metadata": {},
   "outputs": [],
   "source": []
  },
  {
   "cell_type": "code",
   "execution_count": null,
   "metadata": {},
   "outputs": [],
   "source": []
  },
  {
   "cell_type": "markdown",
   "metadata": {},
   "source": [
    "# 3. List the courses that are specialized to “Business Finance” and find the average number of subscribers, reviews, price and lectures on the subject."
   ]
  },
  {
   "cell_type": "code",
   "execution_count": 173,
   "metadata": {},
   "outputs": [],
   "source": [
    "business_finance =  df.filter(df.subject == \"Business Finance\")"
   ]
  },
  {
   "cell_type": "code",
   "execution_count": 174,
   "metadata": {},
   "outputs": [
    {
     "name": "stdout",
     "output_type": "stream",
     "text": [
      "root\n",
      " |-- _corrupt_record: string (nullable = true)\n",
      " |-- content_duration: string (nullable = true)\n",
      " |-- course_id: string (nullable = true)\n",
      " |-- course_title: string (nullable = true)\n",
      " |-- is_paid: string (nullable = true)\n",
      " |-- level: string (nullable = true)\n",
      " |-- num_lectures: string (nullable = true)\n",
      " |-- num_reviews: string (nullable = true)\n",
      " |-- num_subscribers: string (nullable = true)\n",
      " |-- price: string (nullable = true)\n",
      " |-- published_timestamp: string (nullable = true)\n",
      " |-- subject: string (nullable = true)\n",
      " |-- url: string (nullable = true)\n",
      "\n"
     ]
    }
   ],
   "source": [
    "business_finance.printSchema()"
   ]
  },
  {
   "cell_type": "code",
   "execution_count": 175,
   "metadata": {},
   "outputs": [],
   "source": [
    "business_finance = business_finance.withColumn(\"num_reviews\",col(\"num_reviews\").cast(\"integer\"))\n",
    "business_finance = business_finance.withColumn(\"num_subscribers\",col(\"num_subscribers\").cast(\"integer\"))\n",
    "business_finance = business_finance.withColumn(\"num_lectures\",col(\"num_lectures\").cast(\"double\"))\n",
    "business_finance = busines_finance.withColumn(\"price\",col(\"price\").cast(\"double\"))"
   ]
  },
  {
   "cell_type": "code",
   "execution_count": 176,
   "metadata": {},
   "outputs": [
    {
     "name": "stdout",
     "output_type": "stream",
     "text": [
      "root\n",
      " |-- _corrupt_record: string (nullable = true)\n",
      " |-- content_duration: string (nullable = true)\n",
      " |-- course_id: string (nullable = true)\n",
      " |-- course_title: string (nullable = true)\n",
      " |-- is_paid: string (nullable = true)\n",
      " |-- level: string (nullable = true)\n",
      " |-- num_lectures: double (nullable = true)\n",
      " |-- num_reviews: integer (nullable = true)\n",
      " |-- num_subscribers: integer (nullable = true)\n",
      " |-- price: double (nullable = true)\n",
      " |-- published_timestamp: string (nullable = true)\n",
      " |-- subject: string (nullable = true)\n",
      " |-- url: string (nullable = true)\n",
      "\n"
     ]
    }
   ],
   "source": [
    "business_finance.printSchema()"
   ]
  },
  {
   "cell_type": "code",
   "execution_count": 139,
   "metadata": {},
   "outputs": [],
   "source": []
  },
  {
   "cell_type": "code",
   "execution_count": 177,
   "metadata": {},
   "outputs": [
    {
     "name": "stdout",
     "output_type": "stream",
     "text": [
      "+---------------+----------------+---------+--------------------+-------+------------------+------------+-----------+---------------+-----+--------------------+----------------+--------------------+\n",
      "|_corrupt_record|content_duration|course_id|        course_title|is_paid|             level|num_lectures|num_reviews|num_subscribers|price| published_timestamp|         subject|                 url|\n",
      "+---------------+----------------+---------+--------------------+-------+------------------+------------+-----------+---------------+-----+--------------------+----------------+--------------------+\n",
      "|           null|             1.5|  1070968|Ultimate Investme...|   True|        All Levels|        51.0|         23|           2147|200.0|2017-01-18T20:58:58Z|Business Finance|https://www.udemy...|\n",
      "|           null|            39.0|  1113822|Complete GST Cour...|   True|        All Levels|       274.0|        923|           2792| 75.0|2017-03-09T16:34:20Z|Business Finance|https://www.udemy...|\n",
      "|           null|             2.5|  1006314|Financial Modelin...|   True|Intermediate Level|        51.0|         74|           2174| 45.0|2016-12-19T19:26:30Z|Business Finance|https://www.udemy...|\n",
      "|           null|             3.0|  1210588|Beginner to Pro -...|   True|        All Levels|        36.0|         11|           2451| 95.0|2017-05-30T20:07:24Z|Business Finance|https://www.udemy...|\n",
      "|           null|             2.0|  1011058|How To Maximize Y...|   True|Intermediate Level|        26.0|         45|           1276|200.0|2016-12-13T14:57:18Z|Business Finance|https://www.udemy...|\n",
      "|           null|             3.0|   192870|Trading Penny Sto...|   True|        All Levels|        25.0|        138|           9221|150.0|2014-05-02T15:13:30Z|Business Finance|https://www.udemy...|\n",
      "|           null|             1.0|   739964|Investing And Tra...|   True|    Beginner Level|        26.0|        178|           1540| 65.0|2016-02-21T18:23:12Z|Business Finance|https://www.udemy...|\n",
      "|           null|             2.5|   403100|Trading Stock Cha...|   True|        All Levels|        23.0|        148|           2917| 95.0|2015-01-30T22:13:03Z|Business Finance|https://www.udemy...|\n",
      "|           null|             2.5|   476268|Options Trading 3...|   True|      Expert Level|        38.0|         34|           5172|195.0|2015-05-28T00:14:03Z|Business Finance|https://www.udemy...|\n",
      "|           null|             1.0|  1167710|The Only Investme...|   True|        All Levels|        15.0|         14|            827|200.0|2017-04-18T18:13:32Z|Business Finance|https://www.udemy...|\n",
      "+---------------+----------------+---------+--------------------+-------+------------------+------------+-----------+---------------+-----+--------------------+----------------+--------------------+\n",
      "only showing top 10 rows\n",
      "\n"
     ]
    }
   ],
   "source": [
    "business_finance.show(10)"
   ]
  },
  {
   "cell_type": "code",
   "execution_count": 178,
   "metadata": {},
   "outputs": [],
   "source": [
    "from pyspark.sql.functions import avg\n",
    "from pyspark.sql.window import Window"
   ]
  },
  {
   "cell_type": "code",
   "execution_count": 170,
   "metadata": {},
   "outputs": [],
   "source": [
    "# windowSpec  = Window.orderBy(\"num_subscribers\")"
   ]
  },
  {
   "cell_type": "code",
   "execution_count": 171,
   "metadata": {},
   "outputs": [],
   "source": [
    "# business_finance = business_finance.withColumn(\"avg_subscribers\",avg(\"num_subscribers\").over(windowSpec))"
   ]
  },
  {
   "cell_type": "code",
   "execution_count": null,
   "metadata": {},
   "outputs": [],
   "source": []
  },
  {
   "cell_type": "code",
   "execution_count": 185,
   "metadata": {},
   "outputs": [
    {
     "name": "stdout",
     "output_type": "stream",
     "text": [
      "+-----------------+----------------+--------------------+-----------------+\n",
      "|       avg(price)|avg(num_reviews)|avg(num_subscribers)|avg(num_lectures)|\n",
      "+-----------------+----------------+--------------------+-----------------+\n",
      "|68.55230125523012|63.5163179916318|  1563.7748953974894|32.43096234309623|\n",
      "+-----------------+----------------+--------------------+-----------------+\n",
      "\n"
     ]
    }
   ],
   "source": [
    "business_finance.agg({'price': 'mean','num_lectures': 'mean','num_reviews': 'mean','num_subscribers' : 'mean'}).show()"
   ]
  },
  {
   "cell_type": "code",
   "execution_count": null,
   "metadata": {},
   "outputs": [],
   "source": []
  },
  {
   "cell_type": "code",
   "execution_count": 186,
   "metadata": {},
   "outputs": [],
   "source": [
    "business_finance = business_finance.select(business_finance.course_title,business_finance.subject)"
   ]
  },
  {
   "cell_type": "code",
   "execution_count": 187,
   "metadata": {},
   "outputs": [
    {
     "name": "stdout",
     "output_type": "stream",
     "text": [
      "+--------------------+----------------+\n",
      "|        course_title|         subject|\n",
      "+--------------------+----------------+\n",
      "|Ultimate Investme...|Business Finance|\n",
      "|Complete GST Cour...|Business Finance|\n",
      "|Financial Modelin...|Business Finance|\n",
      "|Beginner to Pro -...|Business Finance|\n",
      "|How To Maximize Y...|Business Finance|\n",
      "|Trading Penny Sto...|Business Finance|\n",
      "|Investing And Tra...|Business Finance|\n",
      "|Trading Stock Cha...|Business Finance|\n",
      "|Options Trading 3...|Business Finance|\n",
      "|The Only Investme...|Business Finance|\n",
      "|Forex Trading Sec...|Business Finance|\n",
      "|Trading Options W...|Business Finance|\n",
      "|Financial Managem...|Business Finance|\n",
      "|Forex Trading Cou...|Business Finance|\n",
      "|Python Algo Tradi...|Business Finance|\n",
      "|Short Selling: Le...|Business Finance|\n",
      "|Basic Technical A...|Business Finance|\n",
      "|The Complete Char...|Business Finance|\n",
      "|7 Deadly Mistakes...|Business Finance|\n",
      "|Financial Stateme...|Business Finance|\n",
      "+--------------------+----------------+\n",
      "only showing top 20 rows\n",
      "\n"
     ]
    }
   ],
   "source": [
    "business_finance.show()"
   ]
  },
  {
   "cell_type": "code",
   "execution_count": null,
   "metadata": {},
   "outputs": [],
   "source": []
  },
  {
   "cell_type": "code",
   "execution_count": 188,
   "metadata": {},
   "outputs": [],
   "source": [
    "business_finance.toPandas().to_csv('OutputDatas/3.Business_Finance.csv',index= False)"
   ]
  },
  {
   "cell_type": "code",
   "execution_count": null,
   "metadata": {},
   "outputs": [],
   "source": []
  },
  {
   "cell_type": "code",
   "execution_count": null,
   "metadata": {},
   "outputs": [],
   "source": []
  },
  {
   "cell_type": "markdown",
   "metadata": {},
   "source": [
    "# 6. Find the courses which have more than 15 lectures."
   ]
  },
  {
   "cell_type": "code",
   "execution_count": 189,
   "metadata": {},
   "outputs": [],
   "source": [
    "more_than_15_lectures = df.select(df.course_title,df.num_lectures)"
   ]
  },
  {
   "cell_type": "code",
   "execution_count": 190,
   "metadata": {},
   "outputs": [
    {
     "name": "stdout",
     "output_type": "stream",
     "text": [
      "+--------------------+------------+\n",
      "|        course_title|num_lectures|\n",
      "+--------------------+------------+\n",
      "|Ultimate Investme...|          51|\n",
      "|Complete GST Cour...|         274|\n",
      "|Financial Modelin...|          51|\n",
      "|Beginner to Pro -...|          36|\n",
      "|How To Maximize Y...|          26|\n",
      "|Trading Penny Sto...|          25|\n",
      "|Investing And Tra...|          26|\n",
      "|Trading Stock Cha...|          23|\n",
      "|Options Trading 3...|          38|\n",
      "|The Only Investme...|          15|\n",
      "+--------------------+------------+\n",
      "only showing top 10 rows\n",
      "\n"
     ]
    }
   ],
   "source": [
    "more_than_15_lectures.show(10)"
   ]
  },
  {
   "cell_type": "code",
   "execution_count": 191,
   "metadata": {},
   "outputs": [
    {
     "name": "stdout",
     "output_type": "stream",
     "text": [
      "root\n",
      " |-- course_title: string (nullable = true)\n",
      " |-- num_lectures: string (nullable = true)\n",
      "\n"
     ]
    }
   ],
   "source": [
    "more_than_15_lectures.printSchema()"
   ]
  },
  {
   "cell_type": "code",
   "execution_count": 192,
   "metadata": {},
   "outputs": [],
   "source": [
    "more_than_15_lectures = more_than_15_lectures.withColumn(\"num_lectures\",col(\"num_lectures\").cast(\"double\"))"
   ]
  },
  {
   "cell_type": "code",
   "execution_count": 193,
   "metadata": {},
   "outputs": [
    {
     "name": "stdout",
     "output_type": "stream",
     "text": [
      "root\n",
      " |-- course_title: string (nullable = true)\n",
      " |-- num_lectures: double (nullable = true)\n",
      "\n"
     ]
    }
   ],
   "source": [
    "more_than_15_lectures.printSchema()"
   ]
  },
  {
   "cell_type": "code",
   "execution_count": 202,
   "metadata": {},
   "outputs": [],
   "source": [
    "more_than_15_lectures = more_than_15_lectures.filter(more_than_15_lectures.num_lectures>15)"
   ]
  },
  {
   "cell_type": "code",
   "execution_count": 203,
   "metadata": {},
   "outputs": [
    {
     "name": "stdout",
     "output_type": "stream",
     "text": [
      "+--------------------+------------+\n",
      "|        course_title|num_lectures|\n",
      "+--------------------+------------+\n",
      "|Ultimate Investme...|        51.0|\n",
      "|Complete GST Cour...|       274.0|\n",
      "|Financial Modelin...|        51.0|\n",
      "|Beginner to Pro -...|        36.0|\n",
      "|How To Maximize Y...|        26.0|\n",
      "|Trading Penny Sto...|        25.0|\n",
      "|Investing And Tra...|        26.0|\n",
      "|Trading Stock Cha...|        23.0|\n",
      "|Options Trading 3...|        38.0|\n",
      "|Forex Trading Sec...|        76.0|\n",
      "|Trading Options W...|        17.0|\n",
      "|Financial Managem...|        19.0|\n",
      "|Forex Trading Cou...|        16.0|\n",
      "|Python Algo Tradi...|        42.0|\n",
      "|Short Selling: Le...|        19.0|\n",
      "|Basic Technical A...|        16.0|\n",
      "|The Complete Char...|        52.0|\n",
      "|7 Deadly Mistakes...|        23.0|\n",
      "|Winning Forex Tra...|        25.0|\n",
      "|Forex Traders - C...|        39.0|\n",
      "+--------------------+------------+\n",
      "only showing top 20 rows\n",
      "\n"
     ]
    }
   ],
   "source": [
    "more_than_15_lectures.show()"
   ]
  },
  {
   "cell_type": "code",
   "execution_count": 204,
   "metadata": {},
   "outputs": [],
   "source": [
    "more_than_15_lectures.toPandas().to_csv('OutputDatas/6.More_than_15_lectures.csv',index= False)"
   ]
  },
  {
   "cell_type": "code",
   "execution_count": null,
   "metadata": {},
   "outputs": [],
   "source": []
  },
  {
   "cell_type": "markdown",
   "metadata": {},
   "source": [
    "# 7. List courses on the basis of level."
   ]
  },
  {
   "cell_type": "code",
   "execution_count": 213,
   "metadata": {},
   "outputs": [],
   "source": [
    "level_basis = df.orderBy(df.level)"
   ]
  },
  {
   "cell_type": "code",
   "execution_count": 214,
   "metadata": {},
   "outputs": [
    {
     "name": "stdout",
     "output_type": "stream",
     "text": [
      "+--------------------+----------------+---------+--------------------+-------+----------+------------+-----------+---------------+-----+--------------------+----------------+--------------------+\n",
      "|     _corrupt_record|content_duration|course_id|        course_title|is_paid|     level|num_lectures|num_reviews|num_subscribers|price| published_timestamp|         subject|                 url|\n",
      "+--------------------+----------------+---------+--------------------+-------+----------+------------+-----------+---------------+-----+--------------------+----------------+--------------------+\n",
      "|{\"course_id\": \"52...|            null|     null|                null|   null|      null|        null|       null|           null| null|                null|            null|                null|\n",
      "|                null|             4.0|   798740|Forex Traders - C...|   True|All Levels|          39|         84|           2295|  200|2016-05-02T19:26:48Z|Business Finance|https://www.udemy...|\n",
      "|                null|             2.0|   506568|Create A Business...|   True|All Levels|          16|         83|          10149|   75|2015-05-26T17:25:46Z|Business Finance|https://www.udemy...|\n",
      "|                null|            16.0|   301442|Black Algo Tradin...|   True|All Levels|         227|       1113|          20195|  200|2014-10-27T22:01:36Z|Business Finance|https://www.udemy...|\n",
      "|                null|             5.0|   383414|Beginner to Pro i...|   True|All Levels|          50|        518|           5786|  150|2015-01-31T15:34:05Z|Business Finance|https://www.udemy...|\n",
      "|                null|            39.0|  1113822|Complete GST Cour...|   True|All Levels|         274|        923|           2792|   75|2017-03-09T16:34:20Z|Business Finance|https://www.udemy...|\n",
      "|                null|             2.0|   859742|The Complete Ethe...|   True|All Levels|          40|        333|           2507|   45|2016-05-30T18:53:46Z|Business Finance|https://www.udemy...|\n",
      "|                null|             6.5|  1035472|Python for Financ...|   True|All Levels|         103|        278|           3811|  195|2017-03-30T22:17:09Z|Business Finance|https://www.udemy...|\n",
      "|                null|             6.5|   380970|The Complete Bitc...|   True|All Levels|          80|        449|           8797|   45|2015-01-09T03:55:15Z|Business Finance|https://www.udemy...|\n",
      "|                null|             2.5|   403100|Trading Stock Cha...|   True|All Levels|          23|        148|           2917|   95|2015-01-30T22:13:03Z|Business Finance|https://www.udemy...|\n",
      "|                null|             4.5|   353044|Investing 101: Th...|   True|All Levels|          42|        373|           5334|  200|2014-11-28T17:49:03Z|Business Finance|https://www.udemy...|\n",
      "|                null|             5.0|   592338|Forex Trading Sec...|   True|All Levels|          76|         93|           4284|  200|2015-09-11T16:47:02Z|Business Finance|https://www.udemy...|\n",
      "|                null|             4.5|   831066|Learn MQL5: Build...|   True|All Levels|          81|        103|           2877|  150|2016-04-26T22:41:46Z|Business Finance|https://www.udemy...|\n",
      "|                null|             1.5|   742602|Financial Managem...|   True|All Levels|          19|         21|           3607|   30|2016-02-03T18:04:01Z|Business Finance|https://www.udemy...|\n",
      "|                null|             1.5|   948974|THE Forex Robot: ...|   True|All Levels|          35|        171|           1843|  200|2016-10-04T15:20:57Z|Business Finance|https://www.udemy...|\n",
      "|                null|             7.0|  1196544|Python Algo Tradi...|   True|All Levels|          42|         19|            294|  200|2017-04-28T16:41:44Z|Business Finance|https://www.udemy...|\n",
      "|                null|             1.5|   606928|7 Deadly Mistakes...|   True|All Levels|          23|         24|           5354|   50|2015-09-21T18:10:34Z|Business Finance|https://www.udemy...|\n",
      "|                null|             2.0|  1217778|Mastering High Pr...|   True|All Levels|          22|         11|           1030|  200|2017-06-01T05:22:08Z|Business Finance|https://www.udemy...|\n",
      "|                null|             1.5|  1070968|Ultimate Investme...|   True|All Levels|          51|         23|           2147|  200|2017-01-18T20:58:58Z|Business Finance|https://www.udemy...|\n",
      "|                null|             1.5|  1246208|The Complete Shor...|   True|All Levels|          28|         12|           1041|  200|2017-06-11T19:02:03Z|Business Finance|https://www.udemy...|\n",
      "+--------------------+----------------+---------+--------------------+-------+----------+------------+-----------+---------------+-----+--------------------+----------------+--------------------+\n",
      "only showing top 20 rows\n",
      "\n"
     ]
    }
   ],
   "source": [
    "level_basis.show()"
   ]
  },
  {
   "cell_type": "code",
   "execution_count": 215,
   "metadata": {},
   "outputs": [],
   "source": [
    "level_basis= level_basis.dropna(subset =['subject'])"
   ]
  },
  {
   "cell_type": "code",
   "execution_count": 216,
   "metadata": {},
   "outputs": [
    {
     "name": "stdout",
     "output_type": "stream",
     "text": [
      "+---------------+----------------+---------+--------------------+-------+----------+------------+-----------+---------------+-----+--------------------+----------------+--------------------+\n",
      "|_corrupt_record|content_duration|course_id|        course_title|is_paid|     level|num_lectures|num_reviews|num_subscribers|price| published_timestamp|         subject|                 url|\n",
      "+---------------+----------------+---------+--------------------+-------+----------+------------+-----------+---------------+-----+--------------------+----------------+--------------------+\n",
      "|           null|             4.0|   798740|Forex Traders - C...|   True|All Levels|          39|         84|           2295|  200|2016-05-02T19:26:48Z|Business Finance|https://www.udemy...|\n",
      "|           null|            16.0|   301442|Black Algo Tradin...|   True|All Levels|         227|       1113|          20195|  200|2014-10-27T22:01:36Z|Business Finance|https://www.udemy...|\n",
      "|           null|             2.0|   506568|Create A Business...|   True|All Levels|          16|         83|          10149|   75|2015-05-26T17:25:46Z|Business Finance|https://www.udemy...|\n",
      "|           null|            39.0|  1113822|Complete GST Cour...|   True|All Levels|         274|        923|           2792|   75|2017-03-09T16:34:20Z|Business Finance|https://www.udemy...|\n",
      "|           null|             2.0|   859742|The Complete Ethe...|   True|All Levels|          40|        333|           2507|   45|2016-05-30T18:53:46Z|Business Finance|https://www.udemy...|\n",
      "|           null|             6.5|  1035472|Python for Financ...|   True|All Levels|         103|        278|           3811|  195|2017-03-30T22:17:09Z|Business Finance|https://www.udemy...|\n",
      "|           null|             5.0|   383414|Beginner to Pro i...|   True|All Levels|          50|        518|           5786|  150|2015-01-31T15:34:05Z|Business Finance|https://www.udemy...|\n",
      "|           null|             2.5|   403100|Trading Stock Cha...|   True|All Levels|          23|        148|           2917|   95|2015-01-30T22:13:03Z|Business Finance|https://www.udemy...|\n",
      "|           null|             4.5|   353044|Investing 101: Th...|   True|All Levels|          42|        373|           5334|  200|2014-11-28T17:49:03Z|Business Finance|https://www.udemy...|\n",
      "|           null|             5.0|   592338|Forex Trading Sec...|   True|All Levels|          76|         93|           4284|  200|2015-09-11T16:47:02Z|Business Finance|https://www.udemy...|\n",
      "|           null|             4.5|   831066|Learn MQL5: Build...|   True|All Levels|          81|        103|           2877|  150|2016-04-26T22:41:46Z|Business Finance|https://www.udemy...|\n",
      "|           null|             1.5|   742602|Financial Managem...|   True|All Levels|          19|         21|           3607|   30|2016-02-03T18:04:01Z|Business Finance|https://www.udemy...|\n",
      "|           null|             1.5|   948974|THE Forex Robot: ...|   True|All Levels|          35|        171|           1843|  200|2016-10-04T15:20:57Z|Business Finance|https://www.udemy...|\n",
      "|           null|             7.0|  1196544|Python Algo Tradi...|   True|All Levels|          42|         19|            294|  200|2017-04-28T16:41:44Z|Business Finance|https://www.udemy...|\n",
      "|           null|             6.5|   380970|The Complete Bitc...|   True|All Levels|          80|        449|           8797|   45|2015-01-09T03:55:15Z|Business Finance|https://www.udemy...|\n",
      "|           null|             1.5|   606928|7 Deadly Mistakes...|   True|All Levels|          23|         24|           5354|   50|2015-09-21T18:10:34Z|Business Finance|https://www.udemy...|\n",
      "|           null|             2.0|  1217778|Mastering High Pr...|   True|All Levels|          22|         11|           1030|  200|2017-06-01T05:22:08Z|Business Finance|https://www.udemy...|\n",
      "|           null|             1.5|  1070968|Ultimate Investme...|   True|All Levels|          51|         23|           2147|  200|2017-01-18T20:58:58Z|Business Finance|https://www.udemy...|\n",
      "|           null|             1.5|  1246208|The Complete Shor...|   True|All Levels|          28|         12|           1041|  200|2017-06-11T19:02:03Z|Business Finance|https://www.udemy...|\n",
      "|           null|             3.0|   192870|Trading Penny Sto...|   True|All Levels|          25|        138|           9221|  150|2014-05-02T15:13:30Z|Business Finance|https://www.udemy...|\n",
      "+---------------+----------------+---------+--------------------+-------+----------+------------+-----------+---------------+-----+--------------------+----------------+--------------------+\n",
      "only showing top 20 rows\n",
      "\n"
     ]
    }
   ],
   "source": [
    "level_basis.show()"
   ]
  },
  {
   "cell_type": "code",
   "execution_count": 217,
   "metadata": {},
   "outputs": [],
   "source": [
    "level_basis = level_basis.select(level_basis.course_title,level_basis.level)"
   ]
  },
  {
   "cell_type": "code",
   "execution_count": 218,
   "metadata": {},
   "outputs": [
    {
     "name": "stdout",
     "output_type": "stream",
     "text": [
      "+--------------------+----------+\n",
      "|        course_title|     level|\n",
      "+--------------------+----------+\n",
      "|Forex Traders - C...|All Levels|\n",
      "|Black Algo Tradin...|All Levels|\n",
      "|Create A Business...|All Levels|\n",
      "|Complete GST Cour...|All Levels|\n",
      "|The Complete Ethe...|All Levels|\n",
      "|Python for Financ...|All Levels|\n",
      "|Beginner to Pro i...|All Levels|\n",
      "|Trading Stock Cha...|All Levels|\n",
      "|Investing 101: Th...|All Levels|\n",
      "|Forex Trading Sec...|All Levels|\n",
      "|Learn MQL5: Build...|All Levels|\n",
      "|Financial Managem...|All Levels|\n",
      "|THE Forex Robot: ...|All Levels|\n",
      "|Python Algo Tradi...|All Levels|\n",
      "|The Complete Bitc...|All Levels|\n",
      "|7 Deadly Mistakes...|All Levels|\n",
      "|Mastering High Pr...|All Levels|\n",
      "|Ultimate Investme...|All Levels|\n",
      "|The Complete Shor...|All Levels|\n",
      "|Trading Penny Sto...|All Levels|\n",
      "+--------------------+----------+\n",
      "only showing top 20 rows\n",
      "\n"
     ]
    }
   ],
   "source": [
    "level_basis.show()"
   ]
  },
  {
   "cell_type": "code",
   "execution_count": 220,
   "metadata": {},
   "outputs": [],
   "source": [
    "level_basis.toPandas().to_csv('OutputDatas/7.level_basis_courses.csv',index= False)"
   ]
  },
  {
   "cell_type": "code",
   "execution_count": null,
   "metadata": {},
   "outputs": [],
   "source": []
  },
  {
   "cell_type": "code",
   "execution_count": null,
   "metadata": {},
   "outputs": [],
   "source": []
  },
  {
   "cell_type": "code",
   "execution_count": null,
   "metadata": {},
   "outputs": [],
   "source": []
  },
  {
   "cell_type": "markdown",
   "metadata": {},
   "source": [
    "# 8. Find the courses which have duration greater than 2 hours.\n"
   ]
  },
  {
   "cell_type": "code",
   "execution_count": 221,
   "metadata": {},
   "outputs": [],
   "source": [
    "greater_than_2hours = df.select(df.course_title,df.content_duration)"
   ]
  },
  {
   "cell_type": "code",
   "execution_count": 222,
   "metadata": {},
   "outputs": [
    {
     "name": "stdout",
     "output_type": "stream",
     "text": [
      "+--------------------+------------------+\n",
      "|        course_title|  content_duration|\n",
      "+--------------------+------------------+\n",
      "|Ultimate Investme...|               1.5|\n",
      "|Complete GST Cour...|              39.0|\n",
      "|Financial Modelin...|               2.5|\n",
      "|Beginner to Pro -...|               3.0|\n",
      "|How To Maximize Y...|               2.0|\n",
      "|Trading Penny Sto...|               3.0|\n",
      "|Investing And Tra...|               1.0|\n",
      "|Trading Stock Cha...|               2.5|\n",
      "|Options Trading 3...|               2.5|\n",
      "|The Only Investme...|               1.0|\n",
      "|Forex Trading Sec...|               5.0|\n",
      "|Trading Options W...|               1.0|\n",
      "|Financial Managem...|               1.5|\n",
      "|Forex Trading Cou...|               2.0|\n",
      "|Python Algo Tradi...|               7.0|\n",
      "|Short Selling: Le...|               1.5|\n",
      "|Basic Technical A...|               1.5|\n",
      "|The Complete Char...|               4.0|\n",
      "|7 Deadly Mistakes...|               1.5|\n",
      "|Financial Stateme...|0.5833333333333334|\n",
      "+--------------------+------------------+\n",
      "only showing top 20 rows\n",
      "\n"
     ]
    }
   ],
   "source": [
    "greater_than_2hours.show()"
   ]
  },
  {
   "cell_type": "code",
   "execution_count": 223,
   "metadata": {},
   "outputs": [
    {
     "name": "stdout",
     "output_type": "stream",
     "text": [
      "root\n",
      " |-- course_title: string (nullable = true)\n",
      " |-- content_duration: string (nullable = true)\n",
      "\n"
     ]
    }
   ],
   "source": [
    "greater_than_2hours.printSchema()"
   ]
  },
  {
   "cell_type": "code",
   "execution_count": 224,
   "metadata": {},
   "outputs": [],
   "source": [
    "greater_than_2hours = greater_than_2hours.withColumn(\"content_duration\",col(\"content_duration\").cast(\"float\"))"
   ]
  },
  {
   "cell_type": "code",
   "execution_count": 225,
   "metadata": {},
   "outputs": [
    {
     "name": "stdout",
     "output_type": "stream",
     "text": [
      "root\n",
      " |-- course_title: string (nullable = true)\n",
      " |-- content_duration: float (nullable = true)\n",
      "\n"
     ]
    }
   ],
   "source": [
    "greater_than_2hours.printSchema()"
   ]
  },
  {
   "cell_type": "code",
   "execution_count": 226,
   "metadata": {},
   "outputs": [],
   "source": [
    "greater_than_2hours= greater_than_2hours.filter(greater_than_2hours.content_duration> 2.0)"
   ]
  },
  {
   "cell_type": "code",
   "execution_count": 227,
   "metadata": {},
   "outputs": [
    {
     "name": "stdout",
     "output_type": "stream",
     "text": [
      "+--------------------+----------------+\n",
      "|        course_title|content_duration|\n",
      "+--------------------+----------------+\n",
      "|Complete GST Cour...|            39.0|\n",
      "|Financial Modelin...|             2.5|\n",
      "|Beginner to Pro -...|             3.0|\n",
      "|Trading Penny Sto...|             3.0|\n",
      "|Trading Stock Cha...|             2.5|\n",
      "|Options Trading 3...|             2.5|\n",
      "|Forex Trading Sec...|             5.0|\n",
      "|Python Algo Tradi...|             7.0|\n",
      "|The Complete Char...|             4.0|\n",
      "|Forex Traders - C...|             4.0|\n",
      "|Beginner to Pro i...|             5.0|\n",
      "|Investing 101: Th...|             4.5|\n",
      "|Learn MQL5: Build...|             4.5|\n",
      "|Forex Trading: Yo...|             3.0|\n",
      "|Python Algo Stock...|             2.5|\n",
      "|The Complete Bitc...|             6.5|\n",
      "|Options Trading S...|            10.0|\n",
      "|Forex Trading A-Z...|             5.5|\n",
      "|Introduction to F...|             4.5|\n",
      "|Beginner to Pro i...|             7.5|\n",
      "+--------------------+----------------+\n",
      "only showing top 20 rows\n",
      "\n"
     ]
    }
   ],
   "source": [
    "greater_than_2hours.show()"
   ]
  },
  {
   "cell_type": "code",
   "execution_count": 229,
   "metadata": {},
   "outputs": [],
   "source": [
    "greater_than_2hours.toPandas().to_csv('OutputDatas/8.greater_than_2hours.csv',index= False)"
   ]
  },
  {
   "cell_type": "code",
   "execution_count": null,
   "metadata": {},
   "outputs": [],
   "source": []
  }
 ],
 "metadata": {
  "kernelspec": {
   "display_name": "Python 3 (ipykernel)",
   "language": "python",
   "name": "python3"
  },
  "language_info": {
   "codemirror_mode": {
    "name": "ipython",
    "version": 3
   },
   "file_extension": ".py",
   "mimetype": "text/x-python",
   "name": "python",
   "nbconvert_exporter": "python",
   "pygments_lexer": "ipython3",
   "version": "3.8.3"
  }
 },
 "nbformat": 4,
 "nbformat_minor": 4
}
