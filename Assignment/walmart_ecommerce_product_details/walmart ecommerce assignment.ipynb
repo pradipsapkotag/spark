{
 "cells": [
  {
   "cell_type": "code",
   "execution_count": 1,
   "metadata": {},
   "outputs": [],
   "source": [
    "from pyspark.sql import SparkSession"
   ]
  },
  {
   "cell_type": "code",
   "execution_count": 2,
   "metadata": {},
   "outputs": [
    {
     "name": "stdout",
     "output_type": "stream",
     "text": [
      "22/10/20 12:37:46 WARN Utils: Your hostname, 1011000011101110 resolves to a loopback address: 127.0.1.1; using 192.168.1.72 instead (on interface wlp3s0)\n",
      "22/10/20 12:37:46 WARN Utils: Set SPARK_LOCAL_IP if you need to bind to another address\n"
     ]
    },
    {
     "name": "stderr",
     "output_type": "stream",
     "text": [
      "Setting default log level to \"WARN\".\n",
      "To adjust logging level use sc.setLogLevel(newLevel). For SparkR, use setLogLevel(newLevel).\n"
     ]
    },
    {
     "name": "stdout",
     "output_type": "stream",
     "text": [
      "22/10/20 12:37:47 WARN NativeCodeLoader: Unable to load native-hadoop library for your platform... using builtin-java classes where applicable\n",
      "22/10/20 12:37:49 WARN Utils: Service 'SparkUI' could not bind on port 4040. Attempting port 4041.\n"
     ]
    }
   ],
   "source": [
    "spark = SparkSession.builder \\\n",
    "    .master(\"local[4]\") \\\n",
    "    .appName(\"Walamart Ecommerce\") \\\n",
    "    .getOrCreate()"
   ]
  },
  {
   "cell_type": "code",
   "execution_count": 52,
   "metadata": {},
   "outputs": [],
   "source": [
    "df = spark.read.json(\"walmart_ecommerce_product_details.json\")"
   ]
  },
  {
   "cell_type": "code",
   "execution_count": 4,
   "metadata": {},
   "outputs": [
    {
     "name": "stdout",
     "output_type": "stream",
     "text": [
      "root\n",
      " |-- Available: string (nullable = true)\n",
      " |-- Brand: string (nullable = true)\n",
      " |-- Category: string (nullable = true)\n",
      " |-- Crawl Timestamp: string (nullable = true)\n",
      " |-- Description: string (nullable = true)\n",
      " |-- Gtin: string (nullable = true)\n",
      " |-- Item Number: string (nullable = true)\n",
      " |-- List Price: string (nullable = true)\n",
      " |-- Package Size: string (nullable = true)\n",
      " |-- Postal Code: string (nullable = true)\n",
      " |-- Product Name: string (nullable = true)\n",
      " |-- Product Url: string (nullable = true)\n",
      " |-- Sale Price: string (nullable = true)\n",
      " |-- Uniq Id: string (nullable = true)\n",
      " |-- _corrupt_record: string (nullable = true)\n",
      "\n"
     ]
    }
   ],
   "source": [
    "df.printSchema()"
   ]
  },
  {
   "cell_type": "code",
   "execution_count": 6,
   "metadata": {},
   "outputs": [
    {
     "name": "stdout",
     "output_type": "stream",
     "text": [
      "+---------+--------------------+--------------------+--------------------+--------------------+------------+-----------+----------+------------+-----------+--------------------+--------------------+----------+--------------------+---------------+\n",
      "|Available|               Brand|            Category|     Crawl Timestamp|         Description|        Gtin|Item Number|List Price|Package Size|Postal Code|        Product Name|         Product Url|Sale Price|             Uniq Id|_corrupt_record|\n",
      "+---------+--------------------+--------------------+--------------------+--------------------+------------+-----------+----------+------------+-----------+--------------------+--------------------+----------+--------------------+---------------+\n",
      "|     TRUE|       In Style Eyes|Health|Home Healt...|2019-03-22 17:10:...|Stunning Looking ...|096647824338|           |     19.99|            |           |In Style Eyes Cat...|https://www.walma...|     19.99|459b05f3cb7f1cba0...|           null|\n",
      "|     TRUE|       In Style Eyes|Health|Home Healt...|2019-03-22 17:10:...|Stunning Looking ...|096647824277|           |     19.99|            |           |In Style Eyes Cat...|https://www.walma...|     19.99|6a1bddc2801cbba53...|           null|\n",
      "|     TRUE|       In Style Eyes|Health|Home Healt...|2019-03-22 17:10:...|Stunning Looking ...|096647824499|           |     19.99|            |           |In Style Eyes Cat...|https://www.walma...|     19.99|4d237340ae8361b4b...|           null|\n",
      "|     TRUE|       In Style Eyes|Health|Home Healt...|2019-03-22 17:10:...|Stunning Looking ...|096647824451|           |     19.99|            |           |In Style Eyes Cat...|https://www.walma...|     19.99|d6dbc29d5782a88db...|           null|\n",
      "|    FALSE|         Upper Crust|Food|Baking|Bakin...|2019-03-22 17:46:...|| Size informatio...|890749001334|           |     39.96|            |           |Upper Crust Carib...|https://www.walma...|     39.96|9e51356d763e53dc6...|           null|\n",
      "|    FALSE|     Unique Bargains|Pets|Fish|Aquariu...|2019-03-22 17:35:...| Material: Plasti...|602451815532|           |    199.99|            |           |Fish Tank Ornamen...|https://www.walma...|       100|6fe8e4a8b0983d9c7...|           null|\n",
      "|    FALSE|              LaCasa|Beauty|Skin Care|...|2019-03-22 18:11:...|ELIMINATES BLACKH...|696405347446|           |     19.54|            |           |3-Pack Black Peel...|https://www.walma...|     19.54|60a82e436e09d9e72...|           null|\n",
      "|     TRUE|     CHOSEN SUPPLIES|Household Essenti...|2019-03-22 17:27:...| Volts: 12.80 Wat...|617456484898|           |     32.51|            |           |Replacement for L...|https://www.walma...|     32.51|7ca0a58d3e8538aca...|           null|\n",
      "|     TRUE|Caroline's Treasures|Office|Notebooks ...|2019-03-22 18:29:...|TAKE note! The pe...|638508998552|           |     10.59|            |           |American Foxhound...|https://www.walma...|     10.59|2c4a607ab9dae7ede...|           null|\n",
      "|     TRUE|            Ironwood|Home|Furniture|Of...|2019-03-22 18:34:...|Features: -Modula...|190213652360|           |       680|            |           |Ironwood Modular ...|https://www.walma...|    419.99|2c40b519adf279ec2...|           null|\n",
      "+---------+--------------------+--------------------+--------------------+--------------------+------------+-----------+----------+------------+-----------+--------------------+--------------------+----------+--------------------+---------------+\n",
      "only showing top 10 rows\n",
      "\n"
     ]
    }
   ],
   "source": [
    "df.show(10)"
   ]
  },
  {
   "cell_type": "code",
   "execution_count": 7,
   "metadata": {},
   "outputs": [
    {
     "name": "stderr",
     "output_type": "stream",
     "text": [
      "                                                                                \r"
     ]
    }
   ],
   "source": [
    "df.toPandas().to_csv('OutputDatas/walmart_ecommerce_product_details.csv',index= False)"
   ]
  },
  {
   "cell_type": "markdown",
   "metadata": {},
   "source": [
    "# 1. Get the Brand along with products associated with it."
   ]
  },
  {
   "cell_type": "code",
   "execution_count": 20,
   "metadata": {},
   "outputs": [],
   "source": [
    "brand_with_product = df.select('Brand','Product Name')"
   ]
  },
  {
   "cell_type": "code",
   "execution_count": 21,
   "metadata": {},
   "outputs": [
    {
     "name": "stdout",
     "output_type": "stream",
     "text": [
      "+--------------------+--------------------------------------------------------------------------------------------------------------------------------------------------------------------------+\n",
      "|Brand               |Product Name                                                                                                                                                              |\n",
      "+--------------------+--------------------------------------------------------------------------------------------------------------------------------------------------------------------------+\n",
      "|In Style Eyes       |In Style Eyes Cateye Two Tone Reading Glasses                                                                                                                             |\n",
      "|In Style Eyes       |In Style Eyes Cateye Two Tone Reading Glasses                                                                                                                             |\n",
      "|In Style Eyes       |In Style Eyes Cateye Two Tone Reading Glasses                                                                                                                             |\n",
      "|In Style Eyes       |In Style Eyes Cateye Two Tone Reading Glasses                                                                                                                             |\n",
      "|Upper Crust         |Upper Crust Caribbean Coconut Panko Bread Crumbs, 10 Pound -- 1 each.                                                                                                     |\n",
      "|Unique Bargains     |Fish Tank Ornament Plastic Decoration Plant Suction Cup 4 Pcs                                                                                                             |\n",
      "|LaCasa              |3-Pack Black Peel-Off Mask for Deep Cleansing, Purifying Skin, Removing Blackheads, Blemishes ( 3 Bonus Hair Removing Pen)                                                |\n",
      "|CHOSEN SUPPLIES     |Replacement for LIONEL TOY TRAIN 671-75 replacement light bulb lamp                                                                                                       |\n",
      "|Caroline's Treasures|American Foxhound Christmas Sticky Note Holder BB8433SN                                                                                                                   |\n",
      "|Ironwood            |Ironwood Modular 3'' H x 23'' W Desk Keyboard Platform                                                                                                                    |\n",
      "|Classique           |Classique 766 Post Mastectomy Fashion Bra-Beige/Skin-38D                                                                                                                  |\n",
      "|Ames Walker         |Ames Walker AW Style 16 Sheer Support 15-20mmHg Moderate Compression Knee Closed Toe Knee High Stockings - Relieves pain of tired aching legs-Helps prevent varicose veins|\n",
      "|Ames Walker         |Ames Walker AW Style 16 Sheer Support 15-20mmHg Moderate Compression Knee Closed Toe Knee High Stockings - Relieves pain of tired aching legs-Helps prevent varicose veins|\n",
      "|Ames Walker         |Ames Walker AW Style 16 Sheer Support 15-20mmHg Moderate Compression Knee Closed Toe Knee High Stockings - Relieves pain of tired aching legs-Helps prevent varicose veins|\n",
      "|Ames Walker         |Ames Walker AW Style 16 Sheer Support 15-20mmHg Moderate Compression Knee Closed Toe Knee High Stockings - Relieves pain of tired aching legs-Helps prevent varicose veins|\n",
      "|Ames Walker         |Ames Walker AW Style 16 Sheer Support 15-20mmHg Moderate Compression Knee Closed Toe Knee High Stockings - Relieves pain of tired aching legs-Helps prevent varicose veins|\n",
      "|Ames Walker         |Ames Walker AW Style 16 Sheer Support 15-20mmHg Moderate Compression Knee Closed Toe Knee High Stockings - Relieves pain of tired aching legs-Helps prevent varicose veins|\n",
      "|Ames Walker         |Ames Walker AW Style 16 Sheer Support 15-20mmHg Moderate Compression Knee Closed Toe Knee High Stockings - Relieves pain of tired aching legs-Helps prevent varicose veins|\n",
      "|Ames Walker         |Ames Walker AW Style 16 Sheer Support 15-20mmHg Moderate Compression Knee Closed Toe Knee High Stockings - Relieves pain of tired aching legs-Helps prevent varicose veins|\n",
      "|Ames Walker         |Ames Walker AW Style 16 Sheer Support 15-20mmHg Moderate Compression Knee Closed Toe Knee High Stockings - Relieves pain of tired aching legs-Helps prevent varicose veins|\n",
      "+--------------------+--------------------------------------------------------------------------------------------------------------------------------------------------------------------------+\n",
      "only showing top 20 rows\n",
      "\n"
     ]
    }
   ],
   "source": [
    "brand_with_product.show(truncate = False)"
   ]
  },
  {
   "cell_type": "code",
   "execution_count": 22,
   "metadata": {},
   "outputs": [],
   "source": [
    "brand_with_product = brand_with_product.distinct()"
   ]
  },
  {
   "cell_type": "code",
   "execution_count": 23,
   "metadata": {},
   "outputs": [
    {
     "name": "stdout",
     "output_type": "stream",
     "text": [
      "+-----------------------+-----------------------------------------------------------------------------------------------------+\n",
      "|Brand                  |Product Name                                                                                         |\n",
      "+-----------------------+-----------------------------------------------------------------------------------------------------+\n",
      "|MansBestFriend         |2 Level Lounge Activity Center with Retreat Hide Away Corduroy                                       |\n",
      "|SmartGifts             |Gemstone Globe Bright Silver Keychain - Marine Blue Ocean                                            |\n",
      "|CHOSEN SUPPLIES        |Replacement for LINCOLN MARK LT YEAR 2008 LICENSE PLATE LIGHT 10 PACK replacement light bulb lamp    |\n",
      "|CHOSEN SUPPLIES        |Replacement for AGILENT / HP AA475 HOLLOW CATHODE LAMP BORON B                                       |\n",
      "|CHOSEN SUPPLIES        |Replacement for STERLING 827 YEAR 1989 BRAKE LIGHT YELLOW LED REPLACEMENT replacement light bulb lamp|\n",
      "|Envelopes.com          |6 1/4 x 6 1/4 Gatefold Invitation - Mandarin Orange (500 Qty.)                                       |\n",
      "|                       |Eiko 09320 - LED12WT8F/36/840K-G7D 3 Foot LED Straight T8 Tube Light Bulb for Replacing Fluorescents |\n",
      "|Ecosox                 |Diabetic Bamboo Quarter Sock, White/Grey Medium - 1 Pkg                                              |\n",
      "|Buckle-Down            |Buckle-Down Flying Owls with Leaves Black Multi Color Martingale Dog Collar                          |\n",
      "|Silver                 |Silver Metallic Foil Streamers                                                                       |\n",
      "|Tampico                |Tampico Spice Tampico Chili Pods, 3 oz                                                               |\n",
      "|Frontier               |Frontier - Frontier Cut & Sifted Oregano 0.38 oz 19528 4 PACK SD                                     |\n",
      "|CHOSEN SUPPLIES        |Replacement for MINOLTA RP-606Z replacement light bulb lamp                                          |\n",
      "|Ralph Lauren           |POLO RED by Ralph Lauren                                                                             |\n",
      "|3dRose                 |3dRose Sailboat With Red and Purple Florida Sunset, Greeting Cards, 6 x 6 inches, set of 12          |\n",
      "|First Aid Only         |First Aid Only Hand Sanitizer Packets fit First Aid Kit, 10 Packets (FAOFAE4007)                     |\n",
      "|Dingo                  |Dingo Meat in the Middle Rawhide Chew Bones Mini - 2.5 (21 Pack) - Pack of 12                        |\n",
      "|American White Cross   |American White Cross Tricot Adhesive Strips Bandages 3/4\" x 3\" 200-Ct                                |\n",
      "|Vibrant Life           |Vibrant Life Reflective Red Bones Dog Collar, Large, 15-26 in, 1 in                                  |\n",
      "|Creative Images Systems|4 Pack - Creative Images Systems Adore Semi-Permanent Haircolor, [060] Truly Red 4 oz                |\n",
      "+-----------------------+-----------------------------------------------------------------------------------------------------+\n",
      "only showing top 20 rows\n",
      "\n"
     ]
    }
   ],
   "source": [
    "brand_with_product.show(truncate = False)"
   ]
  },
  {
   "cell_type": "code",
   "execution_count": 24,
   "metadata": {},
   "outputs": [],
   "source": [
    "brand_with_product.toPandas().to_csv('OutputDatas/1. brand_with_product.csv',index= False)"
   ]
  },
  {
   "cell_type": "code",
   "execution_count": null,
   "metadata": {},
   "outputs": [],
   "source": []
  },
  {
   "cell_type": "code",
   "execution_count": null,
   "metadata": {},
   "outputs": [],
   "source": []
  },
  {
   "cell_type": "markdown",
   "metadata": {},
   "source": [
    "# 2. List all the product names whose list price is greater than sales price"
   ]
  },
  {
   "cell_type": "code",
   "execution_count": 25,
   "metadata": {},
   "outputs": [],
   "source": [
    "list_price_greater_than_sales_price = df.select('Product Name','List Price','Sale Price')"
   ]
  },
  {
   "cell_type": "code",
   "execution_count": 26,
   "metadata": {},
   "outputs": [
    {
     "name": "stdout",
     "output_type": "stream",
     "text": [
      "+--------------------+----------+----------+\n",
      "|        Product Name|List Price|Sale Price|\n",
      "+--------------------+----------+----------+\n",
      "|In Style Eyes Cat...|     19.99|     19.99|\n",
      "|In Style Eyes Cat...|     19.99|     19.99|\n",
      "|In Style Eyes Cat...|     19.99|     19.99|\n",
      "|In Style Eyes Cat...|     19.99|     19.99|\n",
      "|Upper Crust Carib...|     39.96|     39.96|\n",
      "|Fish Tank Ornamen...|    199.99|       100|\n",
      "|3-Pack Black Peel...|     19.54|     19.54|\n",
      "|Replacement for L...|     32.51|     32.51|\n",
      "|American Foxhound...|     10.59|     10.59|\n",
      "|Ironwood Modular ...|       680|    419.99|\n",
      "|Classique 766 Pos...|        56|        56|\n",
      "|Ames Walker AW St...|     46.99|     14.29|\n",
      "|Ames Walker AW St...|     46.99|     14.29|\n",
      "|Ames Walker AW St...|     46.99|     14.29|\n",
      "|Ames Walker AW St...|     46.99|     14.29|\n",
      "|Ames Walker AW St...|     46.99|     14.29|\n",
      "|Ames Walker AW St...|     46.99|     14.29|\n",
      "|Ames Walker AW St...|     46.99|     14.29|\n",
      "|Ames Walker AW St...|     46.99|     14.29|\n",
      "|Ames Walker AW St...|     46.99|     14.29|\n",
      "+--------------------+----------+----------+\n",
      "only showing top 20 rows\n",
      "\n"
     ]
    }
   ],
   "source": [
    "list_price_greater_than_sales_price.show()"
   ]
  },
  {
   "cell_type": "code",
   "execution_count": 27,
   "metadata": {},
   "outputs": [
    {
     "name": "stdout",
     "output_type": "stream",
     "text": [
      "root\n",
      " |-- Product Name: string (nullable = true)\n",
      " |-- List Price: string (nullable = true)\n",
      " |-- Sale Price: string (nullable = true)\n",
      "\n"
     ]
    }
   ],
   "source": [
    "list_price_greater_than_sales_price.printSchema()"
   ]
  },
  {
   "cell_type": "code",
   "execution_count": 30,
   "metadata": {},
   "outputs": [],
   "source": [
    "from pyspark.sql.functions import col"
   ]
  },
  {
   "cell_type": "code",
   "execution_count": 31,
   "metadata": {},
   "outputs": [],
   "source": [
    "list_price_greater_than_sales_price = list_price_greater_than_sales_price.withColumn(\"List Price\",col(\"List Price\").cast(\"float\"))\n",
    "list_price_greater_than_sales_price = list_price_greater_than_sales_price.withColumn(\"Sale Price\",col(\"Sale Price\").cast(\"float\"))"
   ]
  },
  {
   "cell_type": "code",
   "execution_count": 32,
   "metadata": {},
   "outputs": [
    {
     "name": "stdout",
     "output_type": "stream",
     "text": [
      "root\n",
      " |-- Product Name: string (nullable = true)\n",
      " |-- List Price: float (nullable = true)\n",
      " |-- Sale Price: float (nullable = true)\n",
      "\n"
     ]
    }
   ],
   "source": [
    "list_price_greater_than_sales_price.printSchema()"
   ]
  },
  {
   "cell_type": "code",
   "execution_count": 34,
   "metadata": {},
   "outputs": [],
   "source": [
    "list_price_greater_than_sales_price = list_price_greater_than_sales_price.filter(df['List Price']>df['Sale Price'])"
   ]
  },
  {
   "cell_type": "code",
   "execution_count": 35,
   "metadata": {},
   "outputs": [
    {
     "name": "stdout",
     "output_type": "stream",
     "text": [
      "+--------------------+----------+----------+\n",
      "|        Product Name|List Price|Sale Price|\n",
      "+--------------------+----------+----------+\n",
      "|Fish Tank Ornamen...|    199.99|     100.0|\n",
      "|Ironwood Modular ...|     680.0|    419.99|\n",
      "|Ames Walker AW St...|     46.99|     14.29|\n",
      "|Ames Walker AW St...|     46.99|     14.29|\n",
      "|Ames Walker AW St...|     46.99|     14.29|\n",
      "|Ames Walker AW St...|     46.99|     14.29|\n",
      "|Ames Walker AW St...|     46.99|     14.29|\n",
      "|Ames Walker AW St...|     46.99|     14.29|\n",
      "|Ames Walker AW St...|     46.99|     14.29|\n",
      "|Ames Walker AW St...|     46.99|     14.29|\n",
      "|Ames Walker AW St...|     46.99|     14.29|\n",
      "|Ames Walker AW St...|     46.99|     14.29|\n",
      "|Ames Walker AW St...|     46.99|     14.29|\n",
      "|Ames Walker AW St...|     46.99|     14.29|\n",
      "|Ames Walker AW St...|     46.99|     14.29|\n",
      "|Ames Walker AW St...|     46.99|     14.29|\n",
      "|Ames Walker AW St...|     46.99|     14.29|\n",
      "|Ames Walker AW St...|     46.99|     14.29|\n",
      "|Ames Walker AW St...|     46.99|     14.29|\n",
      "|Ames Walker AW St...|     46.99|     14.29|\n",
      "+--------------------+----------+----------+\n",
      "only showing top 20 rows\n",
      "\n"
     ]
    }
   ],
   "source": [
    "list_price_greater_than_sales_price.show()"
   ]
  },
  {
   "cell_type": "code",
   "execution_count": 38,
   "metadata": {},
   "outputs": [
    {
     "data": {
      "text/plain": [
       "4279"
      ]
     },
     "execution_count": 38,
     "metadata": {},
     "output_type": "execute_result"
    }
   ],
   "source": [
    "list_price_greater_than_sales_price.count()"
   ]
  },
  {
   "cell_type": "code",
   "execution_count": 37,
   "metadata": {},
   "outputs": [
    {
     "data": {
      "text/plain": [
       "912"
      ]
     },
     "execution_count": 37,
     "metadata": {},
     "output_type": "execute_result"
    }
   ],
   "source": [
    "list_price_greater_than_sales_price.distinct().count()"
   ]
  },
  {
   "cell_type": "code",
   "execution_count": 39,
   "metadata": {},
   "outputs": [],
   "source": [
    "disttinct_list_price_greater_than_sales_price = list_price_greater_than_sales_price.distinct()"
   ]
  },
  {
   "cell_type": "code",
   "execution_count": 40,
   "metadata": {},
   "outputs": [
    {
     "name": "stdout",
     "output_type": "stream",
     "text": [
      "+--------------------+----------+----------+\n",
      "|        Product Name|List Price|Sale Price|\n",
      "+--------------------+----------+----------+\n",
      "|Super Mario Bros ...|     31.38|     20.99|\n",
      "|Buckle Down DC Co...|     19.99|     14.99|\n",
      "|Doco DCS005-10XL ...|     23.13|     17.69|\n",
      "|CHOCOLATE CORDIAL...|     21.99|     19.71|\n",
      "|Yosoo 32 Types 20...|      7.49|      4.99|\n",
      "|Fish Tank Ornamen...|    199.99|     100.0|\n",
      "|Enchanted Shimmer...|      79.0|     53.99|\n",
      "|Letter U Football...|      14.0|     11.59|\n",
      "|Rayne Mirrors Ame...|    636.35|    471.27|\n",
      "|Sigvaris Secure 5...|    131.95|    105.56|\n",
      "|Gemstone Globe Br...|     17.77|     13.06|\n",
      "|Color Packing Tap...|     31.95|     27.16|\n",
      "|Buckle Down Buckl...|     34.99|     23.95|\n",
      "|Ishow 7A Brazilia...|    224.18|    118.82|\n",
      "|Rayne Mirrors Ame...|     794.6|    588.49|\n",
      "|LAMINATED POSTER ...|     16.99|     15.29|\n",
      "|Stain Cleaner&nbs...|     42.89|     28.59|\n",
      "|Eros ATT882930 Kn...|    478.63|    354.44|\n",
      "|Areo Home Wall Bu...|     81.99|     36.96|\n",
      "|Women's Breeze Wa...|     74.95|     28.57|\n",
      "+--------------------+----------+----------+\n",
      "only showing top 20 rows\n",
      "\n"
     ]
    }
   ],
   "source": [
    "disttinct_list_price_greater_than_sales_price.show()"
   ]
  },
  {
   "cell_type": "code",
   "execution_count": 41,
   "metadata": {},
   "outputs": [],
   "source": [
    "disttinct_list_price_greater_than_sales_price.toPandas().to_csv('OutputDatas/2. list_price_greater_than_sales_price.csv',index= False)"
   ]
  },
  {
   "cell_type": "code",
   "execution_count": null,
   "metadata": {},
   "outputs": [],
   "source": []
  },
  {
   "cell_type": "code",
   "execution_count": null,
   "metadata": {},
   "outputs": [],
   "source": []
  },
  {
   "cell_type": "code",
   "execution_count": null,
   "metadata": {},
   "outputs": [],
   "source": []
  },
  {
   "cell_type": "markdown",
   "metadata": {},
   "source": [
    "# 3. Count the number of product names whose list price is greater than sales price"
   ]
  },
  {
   "cell_type": "code",
   "execution_count": 44,
   "metadata": {},
   "outputs": [
    {
     "data": {
      "text/plain": [
       "544"
      ]
     },
     "execution_count": 44,
     "metadata": {},
     "output_type": "execute_result"
    }
   ],
   "source": [
    "list_price_greater_than_sales_price.select('Product Name').distinct().count()"
   ]
  },
  {
   "cell_type": "code",
   "execution_count": null,
   "metadata": {},
   "outputs": [],
   "source": []
  },
  {
   "cell_type": "code",
   "execution_count": null,
   "metadata": {},
   "outputs": [],
   "source": []
  },
  {
   "cell_type": "markdown",
   "metadata": {},
   "source": [
    "# 4. List all the products belong to a “women” category."
   ]
  },
  {
   "cell_type": "code",
   "execution_count": 91,
   "metadata": {},
   "outputs": [
    {
     "name": "stdout",
     "output_type": "stream",
     "text": [
      "+--------------------+--------------------+\n",
      "|        Product Name|            Category|\n",
      "+--------------------+--------------------+\n",
      "|Classique 766 Pos...|Clothing|Women|Wo...|\n",
      "|Ames Walker AW St...|Clothing|Women|Wo...|\n",
      "|Ames Walker AW St...|Clothing|Women|Wo...|\n",
      "|Ames Walker AW St...|Clothing|Women|Wo...|\n",
      "|Ames Walker AW St...|Clothing|Women|Wo...|\n",
      "+--------------------+--------------------+\n",
      "only showing top 5 rows\n",
      "\n"
     ]
    }
   ],
   "source": [
    "products_belongs_women_category = df.where(col('Category').contains('Women') | col('Category').contains('women'))\n",
    "products_belongs_women_category = products_belongs_women_category.select('Product Name','Category')\n",
    "products_belongs_women_category.show(5)"
   ]
  },
  {
   "cell_type": "code",
   "execution_count": 92,
   "metadata": {},
   "outputs": [
    {
     "data": {
      "text/plain": [
       "3221"
      ]
     },
     "execution_count": 92,
     "metadata": {},
     "output_type": "execute_result"
    }
   ],
   "source": [
    "products_belongs_women_category.count()"
   ]
  },
  {
   "cell_type": "code",
   "execution_count": 93,
   "metadata": {},
   "outputs": [
    {
     "data": {
      "text/plain": [
       "114"
      ]
     },
     "execution_count": 93,
     "metadata": {},
     "output_type": "execute_result"
    }
   ],
   "source": [
    "products_belongs_women_category.distinct().count()"
   ]
  },
  {
   "cell_type": "code",
   "execution_count": 96,
   "metadata": {},
   "outputs": [
    {
     "name": "stdout",
     "output_type": "stream",
     "text": [
      "+--------------------+--------------------+\n",
      "|        Product Name|            Category|\n",
      "+--------------------+--------------------+\n",
      "|Classique 766 Pos...|Clothing|Women|Wo...|\n",
      "|Celtic Knot Weave...|Clothing|Bags & A...|\n",
      "|Owl shaped keycha...|Clothing|Bags & A...|\n",
      "|Secret Key Hider,...|Clothing|Bags & A...|\n",
      "|Monarch M-initial...|Clothing|Bags & A...|\n",
      "|Ramones Plastic K...|Clothing|Bags & A...|\n",
      "|  Stanford Key Chain|Clothing|Bags & A...|\n",
      "|The Wonder Years ...|Clothing|Women|Wo...|\n",
      "|Handmade Glass Pe...|Jewelry|Womens Je...|\n",
      "|Instant Gift Phot...|Clothing|Bags & A...|\n",
      "|Retro Owl Time Ge...|Clothing|Bags & A...|\n",
      "|Keychain - F-16 F...|Clothing|Bags & A...|\n",
      "|Diabetic Bamboo Q...|Clothing|Women|Wo...|\n",
      "|KEY-BAK SUPER48 X...|Clothing|Bags & A...|\n",
      "|Keychain - Soccer...|Clothing|Bags & A...|\n",
      "|Women's Breeze Wa...|Clothing|Shoes|Wo...|\n",
      "|Crew Diabetic Soc...|Clothing|Women|Wo...|\n",
      "|Ames Walker AW St...|Clothing|Women|Wo...|\n",
      "|Gemstone Globe Br...|Clothing|Bags & A...|\n",
      "|Smart Blonde KC-8...|Clothing|Bags & A...|\n",
      "+--------------------+--------------------+\n",
      "only showing top 20 rows\n",
      "\n"
     ]
    }
   ],
   "source": [
    "distinct_products_belongs_women_category = products_belongs_women_category.distinct()\n",
    "\n",
    "distinct_products_belongs_women_category.show()"
   ]
  },
  {
   "cell_type": "code",
   "execution_count": 97,
   "metadata": {},
   "outputs": [
    {
     "data": {
      "text/plain": [
       "114"
      ]
     },
     "execution_count": 97,
     "metadata": {},
     "output_type": "execute_result"
    }
   ],
   "source": [
    "distinct_products_belongs_women_category.count()"
   ]
  },
  {
   "cell_type": "code",
   "execution_count": null,
   "metadata": {},
   "outputs": [],
   "source": []
  },
  {
   "cell_type": "code",
   "execution_count": 98,
   "metadata": {},
   "outputs": [],
   "source": [
    "distinct_products_belongs_women_category.toPandas().to_csv('OutputDatas/4. products_belongs_women_category.csv',index= False)"
   ]
  },
  {
   "cell_type": "code",
   "execution_count": null,
   "metadata": {},
   "outputs": [],
   "source": []
  },
  {
   "cell_type": "code",
   "execution_count": null,
   "metadata": {},
   "outputs": [],
   "source": []
  },
  {
   "cell_type": "markdown",
   "metadata": {},
   "source": [
    "# 5. List the products which are not available."
   ]
  },
  {
   "cell_type": "code",
   "execution_count": 57,
   "metadata": {},
   "outputs": [],
   "source": [
    "product_not_available = df.filter(df.Available == 'FALSE').select('Available','Product Name')"
   ]
  },
  {
   "cell_type": "code",
   "execution_count": 58,
   "metadata": {},
   "outputs": [
    {
     "name": "stdout",
     "output_type": "stream",
     "text": [
      "+---------+--------------------+\n",
      "|Available|        Product Name|\n",
      "+---------+--------------------+\n",
      "|    FALSE|Upper Crust Carib...|\n",
      "|    FALSE|Fish Tank Ornamen...|\n",
      "|    FALSE|3-Pack Black Peel...|\n",
      "|    FALSE|Ames Walker AW St...|\n",
      "|    FALSE|Turkey Hill Diet ...|\n",
      "+---------+--------------------+\n",
      "only showing top 5 rows\n",
      "\n"
     ]
    }
   ],
   "source": [
    "product_not_available.show(5)"
   ]
  },
  {
   "cell_type": "code",
   "execution_count": 60,
   "metadata": {},
   "outputs": [
    {
     "data": {
      "text/plain": [
       "8822"
      ]
     },
     "execution_count": 60,
     "metadata": {},
     "output_type": "execute_result"
    }
   ],
   "source": [
    "product_not_available.count()"
   ]
  },
  {
   "cell_type": "code",
   "execution_count": 62,
   "metadata": {},
   "outputs": [
    {
     "data": {
      "text/plain": [
       "1596"
      ]
     },
     "execution_count": 62,
     "metadata": {},
     "output_type": "execute_result"
    }
   ],
   "source": [
    "product_not_available.distinct().count()"
   ]
  },
  {
   "cell_type": "code",
   "execution_count": 63,
   "metadata": {},
   "outputs": [
    {
     "name": "stdout",
     "output_type": "stream",
     "text": [
      "+---------+--------------------+\n",
      "|Available|        Product Name|\n",
      "+---------+--------------------+\n",
      "|    FALSE|Produce Houweling...|\n",
      "|    FALSE|matave organic 20...|\n",
      "|    FALSE|Heepo Tiger Skin ...|\n",
      "|    FALSE|Unik Occasions Sp...|\n",
      "|    FALSE|Country Brook Des...|\n",
      "|    FALSE|Rapesco 923/12mm ...|\n",
      "|    FALSE|Buckle-Down PC-W3...|\n",
      "|    FALSE|Travel Cosmetic M...|\n",
      "|    FALSE|ConvaTec ActiveLi...|\n",
      "|    FALSE|DuraGlobe Monthly...|\n",
      "|    FALSE|British Flag Hear...|\n",
      "|    FALSE|Solid Dog Polo by...|\n",
      "|    FALSE|Moleskine Message...|\n",
      "|    FALSE|comfortable Flex-...|\n",
      "|    FALSE|Birthday Wishes B...|\n",
      "|    FALSE|HILASON 1200D RIP...|\n",
      "|    FALSE|AARCO Enclosed Wa...|\n",
      "|    FALSE|Gerber Nuk BPA Fr...|\n",
      "|    FALSE|Splash Home GEL-B...|\n",
      "|    FALSE|Electric Height-A...|\n",
      "+---------+--------------------+\n",
      "only showing top 20 rows\n",
      "\n"
     ]
    }
   ],
   "source": [
    "product_not_available = product_not_available.distinct()\n",
    "product_not_available.show()"
   ]
  },
  {
   "cell_type": "code",
   "execution_count": null,
   "metadata": {},
   "outputs": [],
   "source": []
  },
  {
   "cell_type": "code",
   "execution_count": 64,
   "metadata": {},
   "outputs": [],
   "source": [
    "product_not_available.toPandas().to_csv('OutputDatas/5. product_not_available.csv',index= False)"
   ]
  },
  {
   "cell_type": "code",
   "execution_count": null,
   "metadata": {},
   "outputs": [],
   "source": []
  },
  {
   "cell_type": "markdown",
   "metadata": {},
   "source": [
    "# 6. Count the number of products which are available."
   ]
  },
  {
   "cell_type": "code",
   "execution_count": 67,
   "metadata": {},
   "outputs": [
    {
     "name": "stdout",
     "output_type": "stream",
     "text": [
      "+--------------------+\n",
      "|        Product Name|\n",
      "+--------------------+\n",
      "|In Style Eyes Cat...|\n",
      "|In Style Eyes Cat...|\n",
      "|In Style Eyes Cat...|\n",
      "|In Style Eyes Cat...|\n",
      "|Replacement for L...|\n",
      "|American Foxhound...|\n",
      "|Ironwood Modular ...|\n",
      "|Classique 766 Pos...|\n",
      "|Ames Walker AW St...|\n",
      "|Ames Walker AW St...|\n",
      "|Ames Walker AW St...|\n",
      "|Ames Walker AW St...|\n",
      "|Ames Walker AW St...|\n",
      "|Ames Walker AW St...|\n",
      "|Ames Walker AW St...|\n",
      "|Ames Walker AW St...|\n",
      "|Ames Walker AW St...|\n",
      "|Ames Walker AW St...|\n",
      "|Ames Walker AW St...|\n",
      "|Ames Walker AW St...|\n",
      "+--------------------+\n",
      "only showing top 20 rows\n",
      "\n"
     ]
    }
   ],
   "source": [
    "product_available = df.filter(df.Available == 'TRUE').select('Product Name')\n",
    "product_available.show()"
   ]
  },
  {
   "cell_type": "code",
   "execution_count": 70,
   "metadata": {},
   "outputs": [
    {
     "data": {
      "text/plain": [
       "21177"
      ]
     },
     "execution_count": 70,
     "metadata": {},
     "output_type": "execute_result"
    }
   ],
   "source": [
    "## product available \n",
    "product_available.count()"
   ]
  },
  {
   "cell_type": "code",
   "execution_count": 71,
   "metadata": {},
   "outputs": [
    {
     "data": {
      "text/plain": [
       "2259"
      ]
     },
     "execution_count": 71,
     "metadata": {},
     "output_type": "execute_result"
    }
   ],
   "source": [
    "## distinct product available\n",
    "product_available.distinct().count()"
   ]
  },
  {
   "cell_type": "code",
   "execution_count": null,
   "metadata": {},
   "outputs": [],
   "source": []
  },
  {
   "cell_type": "code",
   "execution_count": null,
   "metadata": {},
   "outputs": [],
   "source": []
  },
  {
   "cell_type": "code",
   "execution_count": null,
   "metadata": {},
   "outputs": [],
   "source": []
  },
  {
   "cell_type": "code",
   "execution_count": null,
   "metadata": {},
   "outputs": [],
   "source": []
  },
  {
   "cell_type": "markdown",
   "metadata": {},
   "source": [
    "# 7. List the products that are made up of Nylon."
   ]
  },
  {
   "cell_type": "code",
   "execution_count": 76,
   "metadata": {},
   "outputs": [
    {
     "name": "stdout",
     "output_type": "stream",
     "text": [
      "+---------+-----------+--------------------+--------------------+--------------------+------------+-----------+----------+---------------+-----------+--------------------+--------------------+----------+--------------------+---------------+\n",
      "|Available|      Brand|            Category|     Crawl Timestamp|         Description|        Gtin|Item Number|List Price|   Package Size|Postal Code|        Product Name|         Product Url|Sale Price|             Uniq Id|_corrupt_record|\n",
      "+---------+-----------+--------------------+--------------------+--------------------+------------+-----------+----------+---------------+-----------+--------------------+--------------------+----------+--------------------+---------------+\n",
      "|     TRUE|Ames Walker|Clothing|Women|Wo...|2019-03-22 17:46:...|There's a reason ...|649906451211|           |     46.99|size-x-largereg|           |Ames Walker AW St...|https://www.walma...|     14.29|c8a6826ae0a1045cf...|           null|\n",
      "|     TRUE|Ames Walker|Clothing|Women|Wo...|2019-03-22 17:46:...|There's a reason ...|649906451440|           |     46.99|  size-smallreg|           |Ames Walker AW St...|https://www.walma...|     14.29|11e02ac06b49a1114...|           null|\n",
      "|    FALSE|Ames Walker|Clothing|Women|Wo...|2019-03-22 17:46:...|There's a reason ...|649906451259|           |     46.99|  size-largereg|           |Ames Walker AW St...|https://www.walma...|     14.29|6a218b9b211175eb5...|           null|\n",
      "|     TRUE|Ames Walker|Clothing|Women|Wo...|2019-03-22 17:46:...|There's a reason ...|649906451396|           |     46.99|  size-largereg|           |Ames Walker AW St...|https://www.walma...|     14.29|54d34a7048c18592b...|           null|\n",
      "|     TRUE|Ames Walker|Clothing|Women|Wo...|2019-03-22 17:46:...|There's a reason ...|649906451266|           |     46.99|  size-largereg|           |Ames Walker AW St...|https://www.walma...|     14.29|dd2fdbf0de61d5bcb...|           null|\n",
      "+---------+-----------+--------------------+--------------------+--------------------+------------+-----------+----------+---------------+-----------+--------------------+--------------------+----------+--------------------+---------------+\n",
      "only showing top 5 rows\n",
      "\n"
     ]
    }
   ],
   "source": [
    "nylon_producs = df.where(col('Description').contains('Nylon') | col('Description').contains('nylon'))\n",
    "nylon_producs.show(5)"
   ]
  },
  {
   "cell_type": "code",
   "execution_count": 83,
   "metadata": {},
   "outputs": [
    {
     "name": "stdout",
     "output_type": "stream",
     "text": [
      "+--------------------+--------------------+\n",
      "|        Product Name|         Description|\n",
      "+--------------------+--------------------+\n",
      "|Ames Walker AW St...|There's a reason ...|\n",
      "|Ames Walker AW St...|There's a reason ...|\n",
      "|Ames Walker AW St...|There's a reason ...|\n",
      "|Ames Walker AW St...|There's a reason ...|\n",
      "|Ames Walker AW St...|There's a reason ...|\n",
      "+--------------------+--------------------+\n",
      "only showing top 5 rows\n",
      "\n"
     ]
    }
   ],
   "source": [
    "nylon_producs = nylon_producs.select('Product Name', 'Description')\n",
    "nylon_producs.show(5)"
   ]
  },
  {
   "cell_type": "code",
   "execution_count": 84,
   "metadata": {},
   "outputs": [
    {
     "data": {
      "text/plain": [
       "551"
      ]
     },
     "execution_count": 84,
     "metadata": {},
     "output_type": "execute_result"
    }
   ],
   "source": [
    "nylon_producs.count()"
   ]
  },
  {
   "cell_type": "code",
   "execution_count": 85,
   "metadata": {},
   "outputs": [
    {
     "data": {
      "text/plain": [
       "77"
      ]
     },
     "execution_count": 85,
     "metadata": {},
     "output_type": "execute_result"
    }
   ],
   "source": [
    "nylon_producs.distinct().count()"
   ]
  },
  {
   "cell_type": "code",
   "execution_count": 87,
   "metadata": {},
   "outputs": [
    {
     "name": "stdout",
     "output_type": "stream",
     "text": [
      "+--------------------+--------------------+\n",
      "|        Product Name|         Description|\n",
      "+--------------------+--------------------+\n",
      "|Country Brook Des...|Country Brook Des...|\n",
      "|Extra large Profe...|Extra large Profe...|\n",
      "|Plain Nylon Dog C...|Plain Nylon Dog C...|\n",
      "|Coastal Pet Nylon...|This lead consist...|\n",
      "|L'Oreal Paris Inf...|This is the Long-...|\n",
      "|Country Brook Des...|Country Brook Des...|\n",
      "|Country Brook Des...|Made by hand in t...|\n",
      "|Ames Walker AW St...|There's a reason ...|\n",
      "|Pre-Vent II Serie...|Part #36810500 - ...|\n",
      "|Unique Bargains A...|Description: It i...|\n",
      "|Coastal Pet Produ...|Coastal Pet Produ...|\n",
      "|Anti-Embolism Sto...||Blue Jay Brand *...|\n",
      "|Unique Bargains P...|Package Content: ...|\n",
      "|Country Brook Pet...|Half check collar...|\n",
      "|Doco DCA201-18XL ...|Puffy air mesh st...|\n",
      "|DJO ProCare Elbow...|DJO ProCare Elbow...|\n",
      "|2PET Puppy ID Col...| EASY TO WEAR &am...|\n",
      "|Doco DCROPE2072-0...|Reflective rope l...|\n",
      "|BELLINGHAM NITRIL...|BELLINGHAM NITRIL...|\n",
      "|Ames Walker Women...|This new Ames Wal...|\n",
      "+--------------------+--------------------+\n",
      "only showing top 20 rows\n",
      "\n"
     ]
    }
   ],
   "source": [
    "distiinct_nylon_products = nylon_producs.distinct()\n",
    "distiinct_nylon_products.show()"
   ]
  },
  {
   "cell_type": "code",
   "execution_count": 88,
   "metadata": {},
   "outputs": [],
   "source": [
    "distiinct_nylon_products.toPandas().to_csv('OutputDatas/7. nylon_products.csv',index= False)"
   ]
  },
  {
   "cell_type": "code",
   "execution_count": null,
   "metadata": {},
   "outputs": [],
   "source": []
  }
 ],
 "metadata": {
  "kernelspec": {
   "display_name": "Python 3 (ipykernel)",
   "language": "python",
   "name": "python3"
  },
  "language_info": {
   "codemirror_mode": {
    "name": "ipython",
    "version": 3
   },
   "file_extension": ".py",
   "mimetype": "text/x-python",
   "name": "python",
   "nbconvert_exporter": "python",
   "pygments_lexer": "ipython3",
   "version": "3.8.3"
  }
 },
 "nbformat": 4,
 "nbformat_minor": 4
}
